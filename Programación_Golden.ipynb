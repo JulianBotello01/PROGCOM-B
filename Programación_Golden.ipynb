{
  "nbformat": 4,
  "nbformat_minor": 0,
  "metadata": {
    "colab": {
      "provenance": [],
      "include_colab_link": true
    },
    "kernelspec": {
      "name": "python3",
      "display_name": "Python 3"
    },
    "language_info": {
      "name": "python"
    }
  },
  "cells": [
    {
      "cell_type": "markdown",
      "metadata": {
        "id": "view-in-github",
        "colab_type": "text"
      },
      "source": [
        "<a href=\"https://colab.research.google.com/github/JulianBotello01/PROGCOM-B/blob/main/Programaci%C3%B3n_Golden.ipynb\" target=\"_parent\"><img src=\"https://colab.research.google.com/assets/colab-badge.svg\" alt=\"Open In Colab\"/></a>"
      ]
    },
    {
      "cell_type": "markdown",
      "source": [],
      "metadata": {
        "id": "32sQMUkRcy19"
      }
    },
    {
      "cell_type": "code",
      "execution_count": null,
      "metadata": {
        "id": "Uine47qOcuOU"
      },
      "outputs": [],
      "source": [
        "def paso_1(a,b):\n",
        "  for i in range(a):\n",
        "    print(\"Muevo la cadera hacia la derecha\")\n",
        "  for i in range(a):\n",
        "    print(\"Muevo la cadera hacia la izquierda\")\n"
      ]
    },
    {
      "cell_type": "code",
      "source": [
        "paso_1(2,3)"
      ],
      "metadata": {
        "colab": {
          "base_uri": "https://localhost:8080/"
        },
        "id": "kvw5w6vidQHU",
        "outputId": "f53605a3-1913-49b0-e077-a2247fa765d0"
      },
      "execution_count": null,
      "outputs": [
        {
          "output_type": "stream",
          "name": "stdout",
          "text": [
            "Muevo la cadera hacia la derecha\n",
            "Muevo la cadera hacia la derecha\n",
            "Muevo la cadera hacia la izquierda\n",
            "Muevo la cadera hacia la izquierda\n"
          ]
        }
      ]
    },
    {
      "cell_type": "code",
      "source": [
        "def paso_1(a):\n",
        "  if a==1:print(f\"Levantar los brazos hacia arriba\")\n",
        "  elif a==2:print(f\"Levantar los brazos hacia arriba a la derecha\")\n",
        "  elif a==3:print(f\"Levantar los brazos hacia arriba a la izquierda\")"
      ],
      "metadata": {
        "id": "PXqCPNS8fP3X"
      },
      "execution_count": null,
      "outputs": []
    },
    {
      "cell_type": "code",
      "source": [
        "paso_1(1)"
      ],
      "metadata": {
        "colab": {
          "base_uri": "https://localhost:8080/"
        },
        "id": "iIwbWzDafeyI",
        "outputId": "3a764ebd-bfa4-4db8-90af-29c545c7bec3"
      },
      "execution_count": null,
      "outputs": [
        {
          "output_type": "stream",
          "name": "stdout",
          "text": [
            "Levantar los brazos hacia arriba\n"
          ]
        }
      ]
    },
    {
      "cell_type": "code",
      "source": [
        "def paso_2(a):\n",
        "  for i in range(a):\n",
        "    print(\"Levanta las manos hacia arriba\")"
      ],
      "metadata": {
        "id": "haiEmtT0gUTc"
      },
      "execution_count": null,
      "outputs": []
    },
    {
      "cell_type": "code",
      "source": [
        "paso_2(1)"
      ],
      "metadata": {
        "colab": {
          "base_uri": "https://localhost:8080/"
        },
        "id": "fAykSJK5fbWl",
        "outputId": "11de3cd5-dda2-4976-e79a-b08fc0e04ac7"
      },
      "execution_count": null,
      "outputs": [
        {
          "output_type": "stream",
          "name": "stdout",
          "text": [
            "Levanta las manos hacia arriba\n"
          ]
        }
      ]
    },
    {
      "cell_type": "code",
      "source": [
        "def paso_3(a):\n",
        "  for i in range(a):\n",
        "    print(\"Pasa las manos por debajo de la quijada\")"
      ],
      "metadata": {
        "id": "K0E-i1XUg1pm"
      },
      "execution_count": null,
      "outputs": []
    },
    {
      "cell_type": "code",
      "source": [
        "paso_3(2)"
      ],
      "metadata": {
        "colab": {
          "base_uri": "https://localhost:8080/"
        },
        "id": "PgUc5ODIhSPj",
        "outputId": "15d5bce3-7d47-4f0a-83c2-ce88d4f6cb7b"
      },
      "execution_count": null,
      "outputs": [
        {
          "output_type": "stream",
          "name": "stdout",
          "text": [
            "Pasa las manos por debajo de la quijada\n",
            "Pasa las manos por debajo de la quijada\n"
          ]
        }
      ]
    },
    {
      "cell_type": "code",
      "source": [
        "def paso_4(a,b):\n",
        "  for i in range(a):\n",
        "    print(\"Se agacha\")\n",
        "  for i in range(a):\n",
        "    print(\"Mueve los dos brazos levantándolos hacia los lados\")"
      ],
      "metadata": {
        "id": "fSLAr23thdm8"
      },
      "execution_count": null,
      "outputs": []
    },
    {
      "cell_type": "code",
      "source": [
        "paso_4(1,1)"
      ],
      "metadata": {
        "colab": {
          "base_uri": "https://localhost:8080/"
        },
        "id": "R0Dkj9W9h6LO",
        "outputId": "83ddd1dc-c722-4221-b08d-a687ddb0739f"
      },
      "execution_count": null,
      "outputs": [
        {
          "output_type": "stream",
          "name": "stdout",
          "text": [
            "Se agacha\n",
            "Mueve los dos brazos levantándolos hacia los lados\n"
          ]
        }
      ]
    },
    {
      "cell_type": "code",
      "source": [
        "def paso_5(a):\n",
        "  for i in range(a):\n",
        "    print(\"Se levanta\")"
      ],
      "metadata": {
        "id": "RyWwxHyRiNri"
      },
      "execution_count": null,
      "outputs": []
    },
    {
      "cell_type": "code",
      "source": [
        "paso_5(1)"
      ],
      "metadata": {
        "colab": {
          "base_uri": "https://localhost:8080/"
        },
        "id": "SeTMxEjRkb_d",
        "outputId": "88521030-bae2-4c76-e7c0-40c591a3d947"
      },
      "execution_count": null,
      "outputs": [
        {
          "output_type": "stream",
          "name": "stdout",
          "text": [
            "Se levanta\n"
          ]
        }
      ]
    },
    {
      "cell_type": "code",
      "source": [
        "def paso_6(a):\n",
        "  for i in range(a):\n",
        "    print(\"Lleva brazos hacia arriba\")"
      ],
      "metadata": {
        "id": "swuzhh8akidD"
      },
      "execution_count": null,
      "outputs": []
    },
    {
      "cell_type": "code",
      "source": [
        "paso_6(1)"
      ],
      "metadata": {
        "colab": {
          "base_uri": "https://localhost:8080/"
        },
        "id": "RcOq3vWdk-99",
        "outputId": "94d023c4-bef5-41f5-aafa-dc01da8b2e79"
      },
      "execution_count": null,
      "outputs": [
        {
          "output_type": "stream",
          "name": "stdout",
          "text": [
            "Lleva brazos hacia arriba\n"
          ]
        }
      ]
    },
    {
      "cell_type": "code",
      "source": [
        "def paso_7(a):\n",
        "  for i in range(a):\n",
        "    print(\"Lleva brazos hacia la nuca\")"
      ],
      "metadata": {
        "id": "XU883VEOl4dw"
      },
      "execution_count": null,
      "outputs": []
    },
    {
      "cell_type": "code",
      "source": [
        "paso_7(1)"
      ],
      "metadata": {
        "colab": {
          "base_uri": "https://localhost:8080/"
        },
        "id": "Jw4xCipNmexI",
        "outputId": "818ac1ce-3640-4bb3-a250-6c20c2164af2"
      },
      "execution_count": null,
      "outputs": [
        {
          "output_type": "stream",
          "name": "stdout",
          "text": [
            "Lleva brazos hacia la nuca\n"
          ]
        }
      ]
    },
    {
      "cell_type": "code",
      "source": [
        "def paso_8(a):\n",
        "  for i in range(a):\n",
        "    print(\"Se agacha\")"
      ],
      "metadata": {
        "id": "_vf-9q9Ymg2u"
      },
      "execution_count": null,
      "outputs": []
    },
    {
      "cell_type": "code",
      "source": [
        "paso_8(1)"
      ],
      "metadata": {
        "colab": {
          "base_uri": "https://localhost:8080/"
        },
        "id": "UkXGMoFSmmEf",
        "outputId": "b68d7b6d-22e7-4de7-ac6e-75ef3633d344"
      },
      "execution_count": null,
      "outputs": [
        {
          "output_type": "stream",
          "name": "stdout",
          "text": [
            "Se agacha\n"
          ]
        }
      ]
    },
    {
      "cell_type": "code",
      "source": [
        "def paso_9(a):\n",
        "  if a==1:print(f\"Se mueve hacia atrás\")\n",
        "  elif a==2:print(f\"Se mueve hacia adelante\")\n",
        "  elif a==3:print(f\"Se mueve hacia adelante\")"
      ],
      "metadata": {
        "id": "3Y_WwLY0mrSv"
      },
      "execution_count": null,
      "outputs": []
    },
    {
      "cell_type": "code",
      "source": [
        "paso_9(1)\n",
        "paso_9(2)\n",
        "paso_9(3)"
      ],
      "metadata": {
        "colab": {
          "base_uri": "https://localhost:8080/"
        },
        "id": "un1XCKZrm5jX",
        "outputId": "7a5a7bce-818f-47f3-bcbe-805a218d7fed"
      },
      "execution_count": null,
      "outputs": [
        {
          "output_type": "stream",
          "name": "stdout",
          "text": [
            "Se mueve hacia atrás\n",
            "Se mueve hacia adelante\n",
            "Se mueve hacia adelante\n"
          ]
        }
      ]
    },
    {
      "cell_type": "code",
      "source": [
        "def paso_10(a):\n",
        "  if a==1:print(f\"Mueve una mano hacia la cabeza y otra al codo\")\n",
        "  elif a==2:print(f\"Mueve manos hacia la derecha\")\n",
        "  elif a==3:print(f\"Mueve manos hacia la izquierda\")"
      ],
      "metadata": {
        "id": "_K_pQ_JipN4p"
      },
      "execution_count": null,
      "outputs": []
    },
    {
      "cell_type": "code",
      "source": [
        "paso_10(1)\n",
        "paso_10(2)\n",
        "paso_10(3)"
      ],
      "metadata": {
        "colab": {
          "base_uri": "https://localhost:8080/"
        },
        "id": "ZNLABFeUnZJf",
        "outputId": "48eb64be-99a3-48a1-e178-54175f01bb29"
      },
      "execution_count": null,
      "outputs": [
        {
          "output_type": "stream",
          "name": "stdout",
          "text": [
            "Mueve una mano hacia la cabeza y otra al codo\n",
            "Mueve manos hacia la derecha\n",
            "Mueve manos hacia la izquierda\n"
          ]
        }
      ]
    },
    {
      "cell_type": "code",
      "source": [
        "def paso_11(a,b):\n",
        "  for i in range(a):\n",
        "    print(\"Mueve la cabeza hacia arriba\")\n",
        "  for i in range(a):\n",
        "    print(\"Mueve cabeza hacia abajo\")\n"
      ],
      "metadata": {
        "id": "WyZKRbUapK1H"
      },
      "execution_count": null,
      "outputs": []
    },
    {
      "cell_type": "code",
      "source": [
        "paso_11(1,1)"
      ],
      "metadata": {
        "colab": {
          "base_uri": "https://localhost:8080/"
        },
        "id": "uvUybS1Sp5qT",
        "outputId": "371f46fd-356f-451f-ec85-524ec5cf4d0b"
      },
      "execution_count": null,
      "outputs": [
        {
          "output_type": "stream",
          "name": "stdout",
          "text": [
            "Mueve la cabeza hacia arriba\n",
            "Mueve cabeza hacia abajo\n"
          ]
        }
      ]
    },
    {
      "cell_type": "code",
      "source": [
        "def paso_12(a):\n",
        "  for i in range(a):\n",
        "    print(\"Camina hacia adelante\")"
      ],
      "metadata": {
        "id": "hIgymaw4qFZu"
      },
      "execution_count": null,
      "outputs": []
    },
    {
      "cell_type": "code",
      "source": [
        "paso_12(1)"
      ],
      "metadata": {
        "colab": {
          "base_uri": "https://localhost:8080/"
        },
        "id": "-S853i7GqKYJ",
        "outputId": "3165eebe-231e-4de2-8a0e-89134f066534"
      },
      "execution_count": null,
      "outputs": [
        {
          "output_type": "stream",
          "name": "stdout",
          "text": [
            "Camina hacia adelante\n"
          ]
        }
      ]
    },
    {
      "cell_type": "code",
      "source": [
        "def paso_13(a):\n",
        "  for i in range(a):\n",
        "    print(\"Lleva brazos hacia abajo\")"
      ],
      "metadata": {
        "id": "017tzQhZqYek"
      },
      "execution_count": null,
      "outputs": []
    },
    {
      "cell_type": "code",
      "source": [
        "paso_13(1)"
      ],
      "metadata": {
        "colab": {
          "base_uri": "https://localhost:8080/"
        },
        "id": "kRm0ra3rqfbh",
        "outputId": "3ae3d9b1-00f0-42d4-f844-28cfb745f109"
      },
      "execution_count": null,
      "outputs": [
        {
          "output_type": "stream",
          "name": "stdout",
          "text": [
            "Lleva brazos hacia abajo\n"
          ]
        }
      ]
    },
    {
      "cell_type": "code",
      "source": [
        "def paso_14(a):\n",
        "  for i in range(a):\n",
        "    print(\"Lleva brazos hacia los hombros\")\n"
      ],
      "metadata": {
        "id": "YCsnc7-nqnm4"
      },
      "execution_count": null,
      "outputs": []
    },
    {
      "cell_type": "code",
      "source": [
        "paso_14(1)"
      ],
      "metadata": {
        "colab": {
          "base_uri": "https://localhost:8080/"
        },
        "id": "pD9_TC2_qseZ",
        "outputId": "ea8d78eb-22ed-4cb1-aea4-c31906c1c13a"
      },
      "execution_count": null,
      "outputs": [
        {
          "output_type": "stream",
          "name": "stdout",
          "text": [
            "Lleva brazos hacia los hombros\n"
          ]
        }
      ]
    },
    {
      "cell_type": "code",
      "source": [
        "def paso_15(a):\n",
        "  if a==1:print(f\"Camina hacia la izquierda\")\n",
        "  elif a==2:print(f\"Camina hacia la derecha ubicandose en el centro\")\n",
        "  elif a==3:print(f\"Camina hacia la derecha\")"
      ],
      "metadata": {
        "id": "3j9VJYmIq1af"
      },
      "execution_count": null,
      "outputs": []
    },
    {
      "cell_type": "code",
      "source": [
        "paso_15(1)\n",
        "paso_15(2)\n",
        "paso_15(3)"
      ],
      "metadata": {
        "colab": {
          "base_uri": "https://localhost:8080/"
        },
        "id": "9p3Vn30orHy8",
        "outputId": "0e1a1e16-dde8-44aa-f8df-7971254f3a17"
      },
      "execution_count": null,
      "outputs": [
        {
          "output_type": "stream",
          "name": "stdout",
          "text": [
            "Camina hacia la izquierda\n",
            "Camina hacia la derecha ubicandose en el centro\n",
            "Camina hacia la derecha\n"
          ]
        }
      ]
    },
    {
      "cell_type": "code",
      "source": [
        "def levantar_brasos(a,b):\n",
        "  for j in range (1):\n",
        "    for i in range (1):\n",
        "      print(\"bailarina 1 levanta los brazos hacia la derecha\")\n",
        "    for i in range (1):\n",
        "      print(\"bailarina 3 levanta los brazos hacia la la izquierda\")\n",
        "    for i in range (1):\n",
        "      print(\"bailarina 1 levanta los brazos hacia la derecha en forma de L\")\n",
        "    for i in range (1):\n",
        "      print(\"bailarina 3 levanta los brazos hacia la la izquierda en forma de L\")\n",
        "print(\"La bailarina 1 mueve su cuerpo y extiende el brazo a la izquierda\")\n",
        "print(\"La bailarina 3 mueve su cuerpo y extiende el brazo a la derecha\")\n",
        "print(\"La bailarina 1 mueve su cuerpo y levanta el codo a la derecha\")\n",
        "print(\"La bailarina 3 mueve su cuerpo y levanta el codo a la izquierda\")\n",
        "print(\"Bailarina 1 y 3 extienden los brazos al centro formando una flecha hacia arrriba\")\n",
        "print(\"Bailarina 1 y 3 dan un paso adelante\")\n",
        "print(\"Bailarina 1 y 3 extienden los brazos de forma cruzada\")\n",
        "def cruzar_brazos(c):\n",
        "  for i in range (1):\n",
        "    print(\"Bailarina 1 y 3 intercalan de pocision los brazos\")\n",
        "print(\"Bailarina 1 da un paso a la derecha\")\n",
        "print(\"Bailarina 3 da un paso a la izquierda\")\n",
        "print(\"Bailarina 1 y 3 cruzan los brazos\")\n",
        "print(\"Bailarina 1 y 3 cruzan llevan las manos a la pelvis y dan un paso atras hacia la izquierda\")\n",
        "print(\"Bailarina 1,2 y 3 levantan un el brao derecho hacia ariiba y el izquierdp hacia abajo\")\n",
        "def girar_brazos(e,f):\n",
        "  for i in range(1):\n",
        "    for i in range(1):\n",
        "      print(\"Bailarinas rotan los brazos hacia arriba\")\n",
        "    for i in range(1):\n",
        "      print(\"Bailarinas rotan los brazos hacia abajo\")\n",
        "print(\"Bailarinas extienden el brazo hacia abajo y lo elevan a la altura del hombro\")\n",
        "print(\"Bailarinas cambian de brazo y extienden el contrario\")\n",
        "print(\"Bailarinas 1 y 3 dan un paso a la derecha y se inclinan\")\n",
        "print(\"Bailarinas 1 y 3 dan tres pasos hacia adelante\")\n",
        "print(\"Bailarina 1 extiende los brazos hacia la derecha y da un paso a la izquierda\")\n",
        "print(\"Bailarina 3 extiende los brazos hacia la izquierda y da un paso a la derecha\")\n",
        "print(\"Bailarina 1 da un paso a la derecha y eleva los brazos\")\n",
        "print(\"Bailarina 3 eleva los brazos\")\n",
        "print(\"Bailarinas recojen los brazos y dan un pequeño salto\")\n",
        "print(\"Bailarinas hacen un corte de manga\")\n",
        "print(\"Bailarinas cruxan los brasos acia la derecha\")\n",
        "print(\"Bailarinas rotan el antebrazo derecho\")\n",
        "print(\"Bailarinas giran el brazo izquierdo en el sentido opuesto de las agujas del reloj\")\n",
        "print(\"Bailarina 1 levanta los brazos\")\n",
        "print(\"Bailarina 3 extiende los brazos hacia abajo\")\n",
        "print(\"Bailarina 1 y 3 cambian la posicion de sus brazos\")\n",
        "print(\"Bilarinas extienden los brazos hacia los lados\")\n",
        "print(\"Bailarinas estiran los brazos arriba a la derecha\")\n",
        "print(\"Bailarinas mueven los brazos hacia la izquierda\")\n",
        "print(\"Bailarina 1 da un pazo a la izquierda y uno al frente\")\n",
        "print(\"Bailarina 3 da un pazo a la derecha y uno atras\")\n",
        "print(\"Bailarinas rotan el cuerpo haia la derecha\")\n",
        "print(\"Bailarina 3 extiende los brazos a los lados\")\n",
        "print(\"Bailarina 1 cruza los brazos\")\n",
        "print(\"Proceden a hacer pasos indescriptibles\")"
      ],
      "metadata": {
        "id": "liEozkWess5Q"
      },
      "execution_count": null,
      "outputs": []
    }
  ]
}