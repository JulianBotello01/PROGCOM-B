{
  "nbformat": 4,
  "nbformat_minor": 0,
  "metadata": {
    "colab": {
      "provenance": [],
      "include_colab_link": true
    },
    "kernelspec": {
      "name": "python3",
      "display_name": "Python 3"
    },
    "language_info": {
      "name": "python"
    }
  },
  "cells": [
    {
      "cell_type": "markdown",
      "metadata": {
        "id": "view-in-github",
        "colab_type": "text"
      },
      "source": [
        "<a href=\"https://colab.research.google.com/github/JulianBotello01/PROGCOM-B/blob/main/%5BPROGCOM-B%5DGood_Programer_quest_3_.ipynb\" target=\"_parent\"><img src=\"https://colab.research.google.com/assets/colab-badge.svg\" alt=\"Open In Colab\"/></a>"
      ]
    },
    {
      "cell_type": "markdown",
      "source": [
        "##El codigo final es el de abajo:\n",
        "Esto para que pueda ver el proceso de lo que se llevo acabo (ademas del que ya conoce), cabe aclarar que huvo uso de IA pero para aprender como desarrollar el codigo debido a que el OOP es un tema que aun no se ha dado en clase y ni hablar de las funciones para el QR y exportar la informacion al exel"
      ],
      "metadata": {
        "id": "jFF1pPQGSVuv"
      }
    },
    {
      "cell_type": "code",
      "execution_count": null,
      "metadata": {
        "id": "tHdqm1oTNUDq"
      },
      "outputs": [],
      "source": [
        "#Producto\n",
        "class Producto:\n",
        "  def __init__(self,Nombre,Codigo,Precio,IVA):\n",
        "   self.Nombre = Nombre\n",
        "   self.Codigo = Codigo\n",
        "   self.Precio = Precio\n",
        "   self.IVA = Precio*0.19\n",
        "\n",
        "  def Arroz(self):\n",
        "   self.Nombre = \"Arroz\"\n",
        "   self.Codigo = \"1\"\n",
        "   self.Precio = 8000\n",
        "\n",
        "  def Pan(self):\n",
        "   self.Nombre = \"Pan\"\n",
        "   self.Codigo = \"2\"\n",
        "   self.Precio = 4500\n",
        "\n",
        "  def Mantequila(self):\n",
        "   self.Nombre = \"Mantequilla\"\n",
        "   self.Codigo = \"3\"\n",
        "   self.Precio = 10000\n",
        "\n",
        "  def Leche(self):\n",
        "   self.Nombre = \"Leche\"\n",
        "   self.Codigo = \"4\"\n",
        "   self.Precio = 36000\n",
        "\n",
        "  def Carne(self):\n",
        "   self.Nombre = \"Carne\"\n",
        "   self.Codigo = \"5\"\n",
        "   self.Precio = 16000\n",
        "\n",
        "  def Papa(self):\n",
        "   self.Nombre = \"Papa\"\n",
        "   self.Codigo = \"6\"\n",
        "   self.Precio = 2400\n",
        "\n",
        "  def Huevo(self):\n",
        "   self.Nombre = \"Huevo\"\n",
        "   self.Codigo = \"7\"\n",
        "   self.Precio = 18000\n",
        "\n",
        "  def Cebolla(self):\n",
        "   self.Nombre = \"Cebolla\"\n",
        "   self.Codigo = \"8\"\n",
        "   self.Precio = 3200\n",
        "\n",
        "  def Tomate(self):\n",
        "   self.Nombre = \"Tomate\"\n",
        "   self.Codigo = \"9\"\n",
        "   self.Precio = 3000\n",
        "\n",
        "  def Queso(self):\n",
        "   self.Nombre = \"Queso\"\n",
        "   self.Codigo = \"10\"\n",
        "   self.Precio = 10000\n",
        "\n",
        "a= Producto"
      ]
    },
    {
      "cell_type": "markdown",
      "source": [
        "El problema reside en que aún no entiendes qué es la programación orientada a objetos.\n",
        "\n",
        "Creaste una clase llamada Producto, con unos atributos. Eso quiere decir que ya hiciste una fábrica capaz de generar productos!!\n",
        "\n",
        "Los métodos son las cosas que puede hacer un producto. En este caso, yo creo que el IVA puede ser un método que haga el cajero. No el producto per se."
      ],
      "metadata": {
        "id": "lp09keOHHzvl"
      }
    },
    {
      "cell_type": "code",
      "source": [
        "class Producto:\n",
        "    def __init__(self, codigo, nombre, precio, stock):\n",
        "        self.codigo = codigo #código del producto\n",
        "        self.nombre = nombre #nombre del producto\n",
        "        self.precio = precio #precio del producto\n",
        "        self.stock = stock  #cuántos ítems tiene el producto disponible\n",
        "\n",
        "    def __str__(self):\n",
        "        return f\"{self.codigo} - {self.nombre} (${self.precio}) Stock: {self.stock}\"\n"
      ],
      "metadata": {
        "id": "2qAkEm4q2hIm"
      },
      "execution_count": null,
      "outputs": []
    },
    {
      "cell_type": "code",
      "source": [
        "#De tal forma que, puedo crear un objeto llamado \"Arroz\", con código 1, que cuesta 1500, y hay 10\n",
        "item1=Producto(1,\"Arroz\",1500,10)\n",
        "print(item1)"
      ],
      "metadata": {
        "colab": {
          "base_uri": "https://localhost:8080/"
        },
        "id": "WOwTD03uID1o",
        "outputId": "7693112f-b74c-488f-fdf3-c3c0b2569b12"
      },
      "execution_count": null,
      "outputs": [
        {
          "output_type": "stream",
          "name": "stdout",
          "text": [
            "1 - Arroz ($1500) Stock: 10\n"
          ]
        }
      ]
    },
    {
      "cell_type": "markdown",
      "source": [
        "Luego tu instintívamente, creaste un cajero, y creaste dos listas, de tal forma que puedes agregar los productos. Vamos a hacerlo con POO (Programación orientada a objetos)\n",
        "\n",
        "```\n",
        "#Cajero\n",
        "L=[]\n",
        "Ca=[]\n",
        "R = str\n",
        "print(\"Ingrese el codigo del producto, en caso de finalizar escriba 'fin'\")\n",
        "while R != \"fin\":\n",
        "  R = str(input(\"Codigo del siguiente producto: \"));\n",
        "  if R==\"fin\":\n",
        "    break\n",
        "  L.append(R)\n",
        "  C = int(input(\"Cantidad del producto: \"))\n",
        "  Ca.append(C)\n",
        "```\n",
        "\n"
      ],
      "metadata": {
        "id": "fEviKH9SIiA4"
      }
    },
    {
      "cell_type": "code",
      "source": [
        "#Creo que como te entendí, L era para registrar productos, no recuerdo qué era ca\n",
        "#En su lugar, voy a hacer que mi cajero pueda almacenar productos y guardar productos\n",
        "#en un carrito, y voy a decir que serán arreglos\n",
        "\n",
        "class Cajero:\n",
        "  def __init__(self,producto,carrito):\n",
        "    self.producto = []\n",
        "    self.carrito = []"
      ],
      "metadata": {
        "id": "cz5J0Qc0Ixew"
      },
      "execution_count": null,
      "outputs": []
    },
    {
      "cell_type": "code",
      "source": [
        "#Pero puedo crearle métodos a mi cajero, como que registro el producto, lo imprima, agrege producto... etc\n",
        "#Te dejo algunos ejemplos, espero que te ayude para concluir los otros\n",
        "class Cajero:\n",
        "  def __init__(self):\n",
        "    self.productos = []\n",
        "    self.carrito = []\n",
        "\n",
        "  def registrar_producto(self,producto): #Va a ingresar un dato tipo lista, y lo va agregar\n",
        "    self.productos.append(producto)"
      ],
      "metadata": {
        "id": "Nmz4pKZ8Js2T"
      },
      "execution_count": null,
      "outputs": []
    },
    {
      "cell_type": "code",
      "source": [
        "cajero=Cajero() #creé un objeto tipo cajero\n",
        "cajero.registrar_producto(item1) #registré a item1 (el cuál almacenó arroz)\n",
        "cajero.productos#Si lo intento imprimir, no me deja ver el producto!! 😱\n",
        "#Esto es una propiedad de los POO llamado encapsulamiento"
      ],
      "metadata": {
        "colab": {
          "base_uri": "https://localhost:8080/"
        },
        "id": "d5D6qBfLKJrq",
        "outputId": "03664835-dab9-4094-de21-b56fa1f29c21"
      },
      "execution_count": null,
      "outputs": [
        {
          "output_type": "execute_result",
          "data": {
            "text/plain": [
              "[<__main__.Producto at 0x7fa7c71b73e0>]"
            ]
          },
          "metadata": {},
          "execution_count": 15
        }
      ]
    },
    {
      "cell_type": "code",
      "source": [
        "#Creemos un método que me permita crear lo que agregé dentro del cajero.\n",
        "class Cajero:\n",
        "  def __init__(self):\n",
        "    self.productos = []\n",
        "    self.carrito = []\n",
        "\n",
        "  def registrar_producto(self,producto): #Va a ingresar un dato tipo lista, y lo va agregar\n",
        "    self.productos.append(producto)\n",
        "\n",
        "  def mostrar_productos(self):\n",
        "    for producto in self.productos:\n",
        "      print(producto)"
      ],
      "metadata": {
        "id": "AezkO0FKLZmi"
      },
      "execution_count": null,
      "outputs": []
    },
    {
      "cell_type": "code",
      "source": [
        "cajero.mostrar_productos()"
      ],
      "metadata": {
        "colab": {
          "base_uri": "https://localhost:8080/"
        },
        "id": "7WgFnYJoLp5t",
        "outputId": "b974e3b0-cdb4-4fb6-bd51-a03894da3635"
      },
      "execution_count": null,
      "outputs": [
        {
          "output_type": "stream",
          "name": "stdout",
          "text": [
            "1 - Arroz ($1500) Stock: 10\n"
          ]
        }
      ]
    },
    {
      "cell_type": "code",
      "source": [
        "#Profe, y si quiero introducir más productos? Pues crea una lista e introduce esa lista al cajero:\n",
        "lista_productos=[\n",
        "    Producto(1, \"Aceite\\t\", 7000, 10),\n",
        "    Producto(2, \"Jabón\\t\", 2000, 25),\n",
        "    Producto(3, \"Pasta\\t\", 7000, 18),\n",
        "    Producto(4, \"Pepsi\\t\", 2300, 30),\n",
        "]\n",
        "#Observa que sigue mantieniendo el primer producto que creé!~! 😎\n",
        "for p in lista_productos:\n",
        "  cajero.registrar_producto(p)\n",
        "\n",
        "cajero.mostrar_productos()"
      ],
      "metadata": {
        "colab": {
          "base_uri": "https://localhost:8080/",
          "height": 222
        },
        "id": "zFVL3T6eL0YU",
        "outputId": "221e9289-f687-4de1-8807-7bdee32ebb91"
      },
      "execution_count": null,
      "outputs": [
        {
          "output_type": "error",
          "ename": "NameError",
          "evalue": "name 'cajero' is not defined",
          "traceback": [
            "\u001b[0;31m---------------------------------------------------------------------------\u001b[0m",
            "\u001b[0;31mNameError\u001b[0m                                 Traceback (most recent call last)",
            "\u001b[0;32m/tmp/ipython-input-262948181.py\u001b[0m in \u001b[0;36m<cell line: 0>\u001b[0;34m()\u001b[0m\n\u001b[1;32m      8\u001b[0m \u001b[0;31m#Observa que sigue mantieniendo el primer producto que creé!~! 😎\u001b[0m\u001b[0;34m\u001b[0m\u001b[0;34m\u001b[0m\u001b[0m\n\u001b[1;32m      9\u001b[0m \u001b[0;32mfor\u001b[0m \u001b[0mp\u001b[0m \u001b[0;32min\u001b[0m \u001b[0mlista_productos\u001b[0m\u001b[0;34m:\u001b[0m\u001b[0;34m\u001b[0m\u001b[0;34m\u001b[0m\u001b[0m\n\u001b[0;32m---> 10\u001b[0;31m   \u001b[0mcajero\u001b[0m\u001b[0;34m.\u001b[0m\u001b[0mregistrar_producto\u001b[0m\u001b[0;34m(\u001b[0m\u001b[0mp\u001b[0m\u001b[0;34m)\u001b[0m\u001b[0;34m\u001b[0m\u001b[0;34m\u001b[0m\u001b[0m\n\u001b[0m\u001b[1;32m     11\u001b[0m \u001b[0;34m\u001b[0m\u001b[0m\n\u001b[1;32m     12\u001b[0m \u001b[0mcajero\u001b[0m\u001b[0;34m.\u001b[0m\u001b[0mmostrar_productos\u001b[0m\u001b[0;34m(\u001b[0m\u001b[0;34m)\u001b[0m\u001b[0;34m\u001b[0m\u001b[0;34m\u001b[0m\u001b[0m\n",
            "\u001b[0;31mNameError\u001b[0m: name 'cajero' is not defined"
          ]
        }
      ]
    },
    {
      "cell_type": "code",
      "source": [
        "#Podrías hacer más funciones, como agregar cositgas al carritro, mostrar el carrito, calcular el total, imprimir la factura,\n",
        "#calcular el iva de los productos, etc. 🐱"
      ],
      "metadata": {
        "id": "0LAfk6h0MND-"
      },
      "execution_count": null,
      "outputs": []
    },
    {
      "cell_type": "code",
      "source": [
        "pip install qrcode[pil]"
      ],
      "metadata": {
        "colab": {
          "base_uri": "https://localhost:8080/"
        },
        "id": "zFZiQw7lTQ9X",
        "outputId": "7ce04a8b-5562-45c5-b7ef-8ed70c9258b8"
      },
      "execution_count": null,
      "outputs": [
        {
          "output_type": "stream",
          "name": "stdout",
          "text": [
            "Collecting qrcode[pil]\n",
            "  Downloading qrcode-8.2-py3-none-any.whl.metadata (17 kB)\n",
            "Requirement already satisfied: pillow>=9.1.0 in /usr/local/lib/python3.12/dist-packages (from qrcode[pil]) (11.3.0)\n",
            "Downloading qrcode-8.2-py3-none-any.whl (45 kB)\n",
            "\u001b[?25l   \u001b[90m━━━━━━━━━━━━━━━━━━━━━━━━━━━━━━━━━━━━━━━━\u001b[0m \u001b[32m0.0/46.0 kB\u001b[0m \u001b[31m?\u001b[0m eta \u001b[36m-:--:--\u001b[0m\r\u001b[2K   \u001b[90m━━━━━━━━━━━━━━━━━━━━━━━━━━━━━━━━━━━━━━━━\u001b[0m \u001b[32m46.0/46.0 kB\u001b[0m \u001b[31m1.9 MB/s\u001b[0m eta \u001b[36m0:00:00\u001b[0m\n",
            "\u001b[?25hInstalling collected packages: qrcode\n",
            "Successfully installed qrcode-8.2\n"
          ]
        }
      ]
    },
    {
      "cell_type": "code",
      "source": [
        "#Producto\n",
        "class Producto:\n",
        "  def __init__(self,Nombre,Codigo,Precio,IVA):\n",
        "   self.Nombre = Nombre\n",
        "   self.Codigo = Codigo\n",
        "   self.Precio = Precio\n",
        "   self.IVA = Precio*0.19 #esto es un método!!\n",
        "\n",
        "  def Arroz(self):\n",
        "   self.Nombre = \"Arroz\"\n",
        "   self.Codigo = \"1\"\n",
        "   self.Precio = 8000\n",
        "\n",
        "  def Pan(self):\n",
        "   self.Nombre = \"Pan\"\n",
        "   self.Codigo = \"2\"\n",
        "   self.Precio = 4500\n",
        "\n",
        "  def Mantequila(self):\n",
        "   self.Nombre = \"Mantequilla\"\n",
        "   self.Codigo = \"3\"\n",
        "   self.Precio = 10000\n",
        "\n",
        "  def Leche(self):\n",
        "   self.Nombre = \"Leche\"\n",
        "   self.Codigo = \"4\"\n",
        "   self.Precio = 36000\n",
        "\n",
        "  def Carne(self):\n",
        "   self.Nombre = \"Carne\"\n",
        "   self.Codigo = \"5\"\n",
        "   self.Precio = 16000\n",
        "\n",
        "  def Papa(self):\n",
        "   self.Nombre = \"Papa\"\n",
        "   self.Codigo = \"6\"\n",
        "   self.Precio = 2400\n",
        "\n",
        "  def Huevo(self):\n",
        "   self.Nombre = \"Huevo\"\n",
        "   self.Codigo = \"7\"\n",
        "   self.Precio = 18000\n",
        "\n",
        "  def Cebolla(self):\n",
        "   self.Nombre = \"Cebolla\"\n",
        "   self.Codigo = \"8\"\n",
        "   self.Precio = 3200\n",
        "\n",
        "  def Tomate(self):\n",
        "   self.Nombre = \"Tomate\"\n",
        "   self.Codigo = \"9\"\n",
        "   self.Precio = 3000\n",
        "\n",
        "  def Queso(self):\n",
        "   self.Nombre = \"Queso\"\n",
        "   self.Codigo = \"10\"\n",
        "   self.Precio = 10000\n",
        "\n",
        "#Cajero\n",
        "L=[]\n",
        "Ca=[]\n",
        "R = str\n",
        "print(\"Ingrese el codigo del producto, en caso de finalizar escriba 'fin'\")\n",
        "while R != \"fin\":\n",
        "  R = str(input(\"Codigo del siguiente producto: \"));\n",
        "  if R==\"fin\":\n",
        "    break\n",
        "  L.append(R)\n",
        "  C = int(input(\"Cantidad del producto: \"))\n",
        "  Ca.append(C)\n",
        "\n",
        "#Factura\n",
        "print(\"#######################################################################\")\n",
        "print(\" \")\n",
        "print(\"                           Metro Cencosud                              \")\n",
        "print(\"                         Nit: 900.155.107-1                            \")\n",
        "print(\"                          No.8946247185644                             \")\n",
        "print(\" \")\n",
        "print(\"#######################################################################\")\n",
        "A = 0\n",
        "T = 0\n",
        "IM = 0\n",
        "for i in L:\n",
        "  if i==\"1\":\n",
        "    print(f\"{i}{Arroz.Nombre}X{Ca[A]}               {(Arroz.Precio-Arroz.IVA)*Ca[A]}\")\n",
        "    print(f\"                                        {Arroz.IVA*Ca[A]}\")\n",
        "    T = T + Arroz.Precio\n",
        "    IM= IM + Arroz.IVA\n",
        "  elif i==\"2\":\n",
        "    print(f\"{i}{Pan.Nombre}X{Ca[A]}               {(Pan.Precio-Pan.IVA)*Ca[A]}\")\n",
        "    print(f\"                                      {Pan.IVA*Ca[A]}\")\n",
        "    T = T + Pan.Precio\n",
        "    IM= IM + Pan.IVA\n",
        "  elif i==\"3\":\n",
        "    print(f\"{i}{Mantequilla.Nombre}X{Ca[A]}               {(Mantequila.Precio-Mantequilla.IVA)*Ca[A]}\")\n",
        "    print(f\"                                              {Mantequilla.IVA*Ca[A]}\")\n",
        "    T = T + Mantequilla.Precio\n",
        "    IM= IM + Mantequilla.IVA\n",
        "  elif i==\"4\":\n",
        "    print(f\"{i}{Leche.Nombre}X{Ca[A]}               {(Leche.Precio-Leche.IVA)*Ca[A]}\")\n",
        "    print(f\"                                        {Leche.IVA*Ca[A]}\")\n",
        "    T = T + Leche.Precio\n",
        "    IM= IM + Leche.IVA\n",
        "  elif i==\"5\":\n",
        "    print(f\"{i}{Carne.Nombre}X{Ca[A]}               {(Carne.Precio-Carne.IVA)*Ca[A]}\")\n",
        "    print(f\"                                        {Carne.IVA*Ca[A]}\")\n",
        "    T = T + Carne.Precio\n",
        "    IM= IM + Carne.IVA\n",
        "  elif i==\"6\":\n",
        "    print(f\"{i}{Papa.Nombre}X{Ca[A]}               {(Papa.Precio-Papa.IVA)*Ca[A]}\")\n",
        "    print(f\"                                        {Papa.IVA*Ca[A]}\")\n",
        "    T = T + Papa.Precio\n",
        "    IM= IM + Papa.IVA\n",
        "  elif i==\"7\":\n",
        "    print(f\"{i}{Huevo.Nombre}X{Ca[A]}               {(Huevo.Precio-Huevo.IVA)*Ca[A]}\")\n",
        "    print(f\"                                        {Huevo.IVA*Ca[A]}\")\n",
        "    T = T + Huevo.Precio\n",
        "    IM= IM + Huevo.IVA\n",
        "  elif i==\"8\":\n",
        "    print(f\"{i}{Cebolla.Nombre}X{Ca[A]}               {(Cebolla.Precio-Cebolla.IVA)*Ca[A]}\")\n",
        "    print(f\"                                          {Cebolla.IVA*Ca[A]}\")\n",
        "    T = T + Cebolla.Precio\n",
        "    IM= IM + Cebolla.IVA\n",
        "  elif i==\"9\":\n",
        "    print(f\"{i}{Tomate.Nombre}X{Ca[A]}               {(Tomate.Precio-Tomate.IVA)*Ca[A]}\")\n",
        "    print(f\"                                         {Tomate.IVA*Ca[A]}\")\n",
        "    T = T + Tomate.Precio\n",
        "    IM= IM + Tomate.IVA\n",
        "  elif i==\"10\":\n",
        "    print(f\"{i}{Queso.Nombre}X{Ca[A]}               {(Queso.Precio-Queso.IVA)*Ca[A]}\")\n",
        "    print(f\"                                        {Queso.IVA*Ca[A]}\")\n",
        "    T = T + Queso.Precio\n",
        "    IM= IM + Queso.IVA\n",
        "  A = A+1\n",
        "print(f\"                                          Subtotal: {T-IM}\")\n",
        "print(f\"                                               IVA: {IM}\")\n",
        "print(f\"                                             Total: {T}\")\n",
        "print(\"#######################################################################\")\n",
        "print(\" \")\n",
        "print(\"                          Bono para el consumidor                      \")\n",
        "print(\" \")\n",
        "print(\"Valido por:\")\n",
        "print(\" \")\n",
        "print(\"-Una Chems Coin\")\n",
        "print(\"-Aumento de 10000 de exp\")\n",
        "print(\"-Cuopon de 20000K\")\n",
        "print(\" \")\n",
        "print(\"#######################################################################\")"
      ],
      "metadata": {
        "colab": {
          "base_uri": "https://localhost:8080/",
          "height": 393
        },
        "id": "UW6rHnOzDys8",
        "outputId": "c35f847c-3922-42a0-8a03-c512617b5e51"
      },
      "execution_count": null,
      "outputs": [
        {
          "output_type": "stream",
          "name": "stdout",
          "text": [
            "Ingrese el codigo del producto, en caso de finalizar escriba 'fin'\n"
          ]
        },
        {
          "output_type": "error",
          "ename": "KeyboardInterrupt",
          "evalue": "Interrupted by user",
          "traceback": [
            "\u001b[0;31m---------------------------------------------------------------------------\u001b[0m",
            "\u001b[0;31mKeyboardInterrupt\u001b[0m                         Traceback (most recent call last)",
            "\u001b[0;32m/tmp/ipython-input-2938811309.py\u001b[0m in \u001b[0;36m<cell line: 0>\u001b[0;34m()\u001b[0m\n\u001b[1;32m     65\u001b[0m \u001b[0mprint\u001b[0m\u001b[0;34m(\u001b[0m\u001b[0;34m\"Ingrese el codigo del producto, en caso de finalizar escriba 'fin'\"\u001b[0m\u001b[0;34m)\u001b[0m\u001b[0;34m\u001b[0m\u001b[0;34m\u001b[0m\u001b[0m\n\u001b[1;32m     66\u001b[0m \u001b[0;32mwhile\u001b[0m \u001b[0mR\u001b[0m \u001b[0;34m!=\u001b[0m \u001b[0;34m\"fin\"\u001b[0m\u001b[0;34m:\u001b[0m\u001b[0;34m\u001b[0m\u001b[0;34m\u001b[0m\u001b[0m\n\u001b[0;32m---> 67\u001b[0;31m   \u001b[0mR\u001b[0m \u001b[0;34m=\u001b[0m \u001b[0mstr\u001b[0m\u001b[0;34m(\u001b[0m\u001b[0minput\u001b[0m\u001b[0;34m(\u001b[0m\u001b[0;34m\"Codigo del siguiente producto: \"\u001b[0m\u001b[0;34m)\u001b[0m\u001b[0;34m)\u001b[0m\u001b[0;34m;\u001b[0m\u001b[0;34m\u001b[0m\u001b[0;34m\u001b[0m\u001b[0m\n\u001b[0m\u001b[1;32m     68\u001b[0m   \u001b[0;32mif\u001b[0m \u001b[0mR\u001b[0m\u001b[0;34m==\u001b[0m\u001b[0;34m\"fin\"\u001b[0m\u001b[0;34m:\u001b[0m\u001b[0;34m\u001b[0m\u001b[0;34m\u001b[0m\u001b[0m\n\u001b[1;32m     69\u001b[0m     \u001b[0;32mbreak\u001b[0m\u001b[0;34m\u001b[0m\u001b[0;34m\u001b[0m\u001b[0m\n",
            "\u001b[0;32m/usr/local/lib/python3.12/dist-packages/ipykernel/kernelbase.py\u001b[0m in \u001b[0;36mraw_input\u001b[0;34m(self, prompt)\u001b[0m\n\u001b[1;32m   1175\u001b[0m                 \u001b[0;34m\"raw_input was called, but this frontend does not support input requests.\"\u001b[0m\u001b[0;34m\u001b[0m\u001b[0;34m\u001b[0m\u001b[0m\n\u001b[1;32m   1176\u001b[0m             )\n\u001b[0;32m-> 1177\u001b[0;31m         return self._input_request(\n\u001b[0m\u001b[1;32m   1178\u001b[0m             \u001b[0mstr\u001b[0m\u001b[0;34m(\u001b[0m\u001b[0mprompt\u001b[0m\u001b[0;34m)\u001b[0m\u001b[0;34m,\u001b[0m\u001b[0;34m\u001b[0m\u001b[0;34m\u001b[0m\u001b[0m\n\u001b[1;32m   1179\u001b[0m             \u001b[0mself\u001b[0m\u001b[0;34m.\u001b[0m\u001b[0m_parent_ident\u001b[0m\u001b[0;34m[\u001b[0m\u001b[0;34m\"shell\"\u001b[0m\u001b[0;34m]\u001b[0m\u001b[0;34m,\u001b[0m\u001b[0;34m\u001b[0m\u001b[0;34m\u001b[0m\u001b[0m\n",
            "\u001b[0;32m/usr/local/lib/python3.12/dist-packages/ipykernel/kernelbase.py\u001b[0m in \u001b[0;36m_input_request\u001b[0;34m(self, prompt, ident, parent, password)\u001b[0m\n\u001b[1;32m   1217\u001b[0m             \u001b[0;32mexcept\u001b[0m \u001b[0mKeyboardInterrupt\u001b[0m\u001b[0;34m:\u001b[0m\u001b[0;34m\u001b[0m\u001b[0;34m\u001b[0m\u001b[0m\n\u001b[1;32m   1218\u001b[0m                 \u001b[0;31m# re-raise KeyboardInterrupt, to truncate traceback\u001b[0m\u001b[0;34m\u001b[0m\u001b[0;34m\u001b[0m\u001b[0m\n\u001b[0;32m-> 1219\u001b[0;31m                 \u001b[0;32mraise\u001b[0m \u001b[0mKeyboardInterrupt\u001b[0m\u001b[0;34m(\u001b[0m\u001b[0;34m\"Interrupted by user\"\u001b[0m\u001b[0;34m)\u001b[0m \u001b[0;32mfrom\u001b[0m \u001b[0;32mNone\u001b[0m\u001b[0;34m\u001b[0m\u001b[0;34m\u001b[0m\u001b[0m\n\u001b[0m\u001b[1;32m   1220\u001b[0m             \u001b[0;32mexcept\u001b[0m \u001b[0mException\u001b[0m\u001b[0;34m:\u001b[0m\u001b[0;34m\u001b[0m\u001b[0;34m\u001b[0m\u001b[0m\n\u001b[1;32m   1221\u001b[0m                 \u001b[0mself\u001b[0m\u001b[0;34m.\u001b[0m\u001b[0mlog\u001b[0m\u001b[0;34m.\u001b[0m\u001b[0mwarning\u001b[0m\u001b[0;34m(\u001b[0m\u001b[0;34m\"Invalid Message:\"\u001b[0m\u001b[0;34m,\u001b[0m \u001b[0mexc_info\u001b[0m\u001b[0;34m=\u001b[0m\u001b[0;32mTrue\u001b[0m\u001b[0;34m)\u001b[0m\u001b[0;34m\u001b[0m\u001b[0;34m\u001b[0m\u001b[0m\n",
            "\u001b[0;31mKeyboardInterrupt\u001b[0m: Interrupted by user"
          ]
        }
      ]
    },
    {
      "cell_type": "code",
      "source": [
        "class Producto:\n",
        "    def __init__(self, codigo, nombre, precio, stock):\n",
        "        self.codigo = codigo #código del producto\n",
        "        self.nombre = nombre #nombre del producto\n",
        "        self.precio = precio #precio del producto\n",
        "        self.stock = stock  #cuántos ítems tiene el producto disponible\n",
        "\n",
        "    def __str__(self):\n",
        "        return f\"{self.codigo} - {self.nombre} (${self.precio}) Stock: {self.stock}\"\n",
        "item1=Producto(1,\"Arroz\",1500,10)\n",
        "item2=Producto(2,\"Pan\",4500,20)\n",
        "item3=Producto(3,\"Mantequilla\",10000,10)\n",
        "item4=Producto(4,\"Leche\",36000,5)\n",
        "item5=Producto(5,\"Carne\",16000,7)\n",
        "item6=Producto(6,\"Papa\",2400,30)\n",
        "item7=Producto(7,\"Huevo\",18000,8)\n",
        "item8=Producto(8,\"Cebolla\",3200,30)\n",
        "item9=Producto(9,\"Tomate\",3000,30)\n",
        "item10=Producto(10,\"Queso\",10000,10)\n",
        "\n",
        "class Cajero:\n",
        "  def __init__(self):\n",
        "    self.productos = [item1,item2,item3,item4,item5,item6,item7,item8,item9,item10]\n",
        "    self.carrito = []\n",
        "\n",
        "  def registrar_producto(self,producto): #Va a ingresar un dato tipo lista, y lo va agregar\n",
        "    self.productos.append(producto)\n",
        "\n",
        "  def mostrar_productos(self):\n",
        "    for producto in self.productos:\n",
        "      print(producto)\n"
      ],
      "metadata": {
        "id": "aM4TUjbH2AeF"
      },
      "execution_count": null,
      "outputs": []
    },
    {
      "cell_type": "markdown",
      "source": [
        "##**Codigo Final**"
      ],
      "metadata": {
        "id": "bQO5ahfLSRYH"
      }
    },
    {
      "cell_type": "code",
      "source": [
        "!pip install qrcode[pil] openpyxl --quiet\n",
        "\n",
        "import qrcode\n",
        "from IPython.display import display\n",
        "import openpyxl\n",
        "from openpyxl import Workbook\n",
        "from datetime import datetime\n",
        "import os\n",
        "\n",
        "class Producto:\n",
        "    def __init__(self, codigo, nombre, precio, stock):\n",
        "        self.codigo = codigo\n",
        "        self.nombre = nombre\n",
        "        self.precio = precio\n",
        "        self.stock = stock\n",
        "\n",
        "    def __str__(self):\n",
        "        return f\"{self.codigo} - {self.nombre} (${self.precio}) Stock: {self.stock}\"\n",
        "\n",
        "\n",
        "# Productos iniciales\n",
        "item1 = Producto(1, \"Arroz\", 1500, 10)\n",
        "item2 = Producto(2, \"Pan\", 4500, 20)\n",
        "item3 = Producto(3, \"Mantequilla\", 10000, 10)\n",
        "item4 = Producto(4, \"Leche\", 3600, 5)\n",
        "item5 = Producto(5, \"Carne\", 16000, 7)\n",
        "item6 = Producto(6, \"Papa\", 2400, 30)\n",
        "item7 = Producto(7, \"Huevo\", 18000, 8)\n",
        "item8 = Producto(8, \"Cebolla\", 3200, 30)\n",
        "item9 = Producto(9, \"Tomate\", 3000, 30)\n",
        "item10 = Producto(10, \"Queso\", 10000, 10)\n",
        "\n",
        "\n",
        "class Cajero:\n",
        "    contador_facturas = 1  # número de factura incremental\n",
        "\n",
        "    def __init__(self):\n",
        "        self.productos = [item1, item2, item3, item4, item5,\n",
        "                          item6, item7, item8, item9, item10]\n",
        "        self.carrito = []\n",
        "\n",
        "    def registrar_producto(self, producto):\n",
        "        self.productos.append(producto)\n",
        "\n",
        "    def mostrar_productos(self):\n",
        "        print(\"\\n--- Productos disponibles ---\")\n",
        "        for producto in self.productos:\n",
        "            print(producto)\n",
        "\n",
        "    def agregar_al_carrito(self, codigo, cantidad):\n",
        "        for producto in self.productos:\n",
        "            if producto.codigo == codigo:\n",
        "                if producto.stock >= cantidad:\n",
        "                    self.carrito.append((producto, cantidad))\n",
        "                    producto.stock -= cantidad\n",
        "                    print(f\"{cantidad} x {producto.nombre} agregado al carrito.\")\n",
        "                else:\n",
        "                    print(\"No hay suficiente stock.\")\n",
        "                return\n",
        "        print(\"Código de producto no válido.\")\n",
        "\n",
        "    def generar_factura(self):\n",
        "        print(\"#######################################################################\")\n",
        "        print(\" \")\n",
        "        print(\"                           Metro Cencosud                              \")\n",
        "        print(\"                         Nit: 900.155.107-1                            \")\n",
        "        num_factura = Cajero.contador_facturas\n",
        "        print(f\"                          No.{num_factura:06d}                             \")\n",
        "        print(\" \")\n",
        "        print(\"#######################################################################\")\n",
        "        total = 0\n",
        "        texto_factura = f\"FACTURA No.{num_factura:06d}\\n\"\n",
        "        for producto, cantidad in self.carrito:\n",
        "            iva = producto.precio*0.19\n",
        "            subtotal = (producto.precio-iva) * cantidad\n",
        "            IVA = iva * cantidad\n",
        "            texto_factura += f\"{producto.nombre} (x{cantidad}) - ${subtotal} | IVA=${IVA}\\n\"\n",
        "            print(f\"                           {producto.nombre} (x{cantidad}) - ${subtotal}\")\n",
        "            print(f\"                              IVA = ${IVA}\")\n",
        "            total = total + (subtotal+IVA)\n",
        "        texto_factura += f\"TOTAL: ${total}\\n\"\n",
        "        print(f\"TOTAL A PAGAR: ${total}\")\n",
        "        print(\"#######################################################################\")\n",
        "        print(\" \")\n",
        "        print(\"                          Bono para el consumidor                      \")\n",
        "        print(\" \")\n",
        "        print(\"Valido por:\")\n",
        "        print(\" \")\n",
        "        print(\"-Una Chems Coin\")\n",
        "        print(\"-Aumento de 10000 de exp\")\n",
        "        print(\"-Cuopon de 20000K\")\n",
        "        print(\" \")\n",
        "        print(\"#######################################################################\")\n",
        "\n",
        "        qr = qrcode.make(texto_factura)\n",
        "        display(qr)\n",
        "\n",
        "        # Guardar en Excel\n",
        "        self.exportar_excel(num_factura, total)\n",
        "\n",
        "        Cajero.contador_facturas += 1\n",
        "\n",
        "    def exportar_excel(self, num_factura, total):\n",
        "        archivo = \"ventas.xlsx\"\n",
        "        fecha = datetime.now().strftime(\"%Y-%m-%d %H:%M:%S\")\n",
        "\n",
        "        if os.path.exists(archivo):\n",
        "            wb = openpyxl.load_workbook(archivo)\n",
        "            ws = wb.active\n",
        "        else:\n",
        "            wb = Workbook()\n",
        "            ws = wb.active\n",
        "            ws.append([\"Fecha\", \"Número de Factura\", \"Ganancia\"])\n",
        "\n",
        "        ws.append([fecha, num_factura, total])\n",
        "        wb.save(archivo)\n",
        "\n",
        "\n",
        "cajero = Cajero()\n",
        "cajero.mostrar_productos()\n",
        "\n",
        "while True:\n",
        "    opcion = input(\"Ingrese el código del producto (o 'fin' para terminar): \")\n",
        "    if opcion.lower() == \"fin\":\n",
        "        break\n",
        "    try:\n",
        "        codigo = int(opcion)\n",
        "        cantidad = int(input(\"Cantidad: \"))\n",
        "        cajero.agregar_al_carrito(codigo, cantidad)\n",
        "    except ValueError:\n",
        "        print(\"Entrada no válida. Intente de nuevo.\")\n",
        "\n",
        "cajero.generar_factura()"
      ],
      "metadata": {
        "colab": {
          "base_uri": "https://localhost:8080/",
          "height": 1000
        },
        "id": "qn8yUoDjNpa1",
        "outputId": "2f98ceae-5bbb-4018-f198-ae8f8d4ee9e0"
      },
      "execution_count": null,
      "outputs": [
        {
          "output_type": "stream",
          "name": "stdout",
          "text": [
            "\n",
            "--- Productos disponibles ---\n",
            "1 - Arroz ($1500) Stock: 10\n",
            "2 - Pan ($4500) Stock: 20\n",
            "3 - Mantequilla ($10000) Stock: 10\n",
            "4 - Leche ($3600) Stock: 5\n",
            "5 - Carne ($16000) Stock: 7\n",
            "6 - Papa ($2400) Stock: 30\n",
            "7 - Huevo ($18000) Stock: 8\n",
            "8 - Cebolla ($3200) Stock: 30\n",
            "9 - Tomate ($3000) Stock: 30\n",
            "10 - Queso ($10000) Stock: 10\n",
            "Ingrese el código del producto (o 'fin' para terminar): 1\n",
            "Cantidad: 4\n",
            "4 x Arroz agregado al carrito.\n",
            "Ingrese el código del producto (o 'fin' para terminar): fin\n",
            "#######################################################################\n",
            " \n",
            "                           Metro Cencosud                              \n",
            "                         Nit: 900.155.107-1                            \n",
            "                          No.000001                             \n",
            " \n",
            "#######################################################################\n",
            "                           Arroz (x4) - $4860.0\n",
            "                              IVA = $1140.0\n",
            "TOTAL A PAGAR: $6000.0\n",
            "#######################################################################\n",
            " \n",
            "                          Bono para el consumidor                      \n",
            " \n",
            "Valido por:\n",
            " \n",
            "-Una Chems Coin\n",
            "-Aumento de 10000 de exp\n",
            "-Cuopon de 20000K\n",
            " \n",
            "#######################################################################\n"
          ]
        },
        {
          "output_type": "display_data",
          "data": {
            "text/plain": [
              "<qrcode.image.pil.PilImage at 0x7eb047b3c4a0>"
            ],
            "image/png": "[encoded data removed]",
            "image/jpeg": "[encoded data removed]"
          },
          "metadata": {}
        }
      ]
    },
    {
      "cell_type": "markdown",
      "source": [
        "##Esto esd para imprimir el Exel con las ventas"
      ],
      "metadata": {
        "id": "WtcNTeH2YO4G"
      }
    },
    {
      "cell_type": "code",
      "source": [
        "from google.colab import files\n",
        "files.download(\"ventas.xlsx\")"
      ],
      "metadata": {
        "colab": {
          "base_uri": "https://localhost:8080/",
          "height": 17
        },
        "id": "nAp-SkD0Xbij",
        "outputId": "f07ca246-9323-4639-89a5-29c1f11811f4"
      },
      "execution_count": null,
      "outputs": [
        {
          "output_type": "display_data",
          "data": {
            "text/plain": [
              "<IPython.core.display.Javascript object>"
            ],
            "application/javascript": [
              "\n",
              "    async function download(id, filename, size) {\n",
              "      if (!google.colab.kernel.accessAllowed) {\n",
              "        return;\n",
              "      }\n",
              "      const div = document.createElement('div');\n",
              "      const label = document.createElement('label');\n",
              "      label.textContent = `Downloading \"${filename}\": `;\n",
              "      div.appendChild(label);\n",
              "      const progress = document.createElement('progress');\n",
              "      progress.max = size;\n",
              "      div.appendChild(progress);\n",
              "      document.body.appendChild(div);\n",
              "\n",
              "      const buffers = [];\n",
              "      let downloaded = 0;\n",
              "\n",
              "      const channel = await google.colab.kernel.comms.open(id);\n",
              "      // Send a message to notify the kernel that we're ready.\n",
              "      channel.send({})\n",
              "\n",
              "      for await (const message of channel.messages) {\n",
              "        // Send a message to notify the kernel that we're ready.\n",
              "        channel.send({})\n",
              "        if (message.buffers) {\n",
              "          for (const buffer of message.buffers) {\n",
              "            buffers.push(buffer);\n",
              "            downloaded += buffer.byteLength;\n",
              "            progress.value = downloaded;\n",
              "          }\n",
              "        }\n",
              "      }\n",
              "      const blob = new Blob(buffers, {type: 'application/binary'});\n",
              "      const a = document.createElement('a');\n",
              "      a.href = window.URL.createObjectURL(blob);\n",
              "      a.download = filename;\n",
              "      div.appendChild(a);\n",
              "      a.click();\n",
              "      div.remove();\n",
              "    }\n",
              "  "
            ]
          },
          "metadata": {}
        },
        {
          "output_type": "display_data",
          "data": {
            "text/plain": [
              "<IPython.core.display.Javascript object>"
            ],
            "application/javascript": [
              "download(\"download_0044094b-45c8-425d-8d46-68454b0097ee\", \"ventas.xlsx\", 4906)"
            ]
          },
          "metadata": {}
        }
      ]
    }
  ]
}