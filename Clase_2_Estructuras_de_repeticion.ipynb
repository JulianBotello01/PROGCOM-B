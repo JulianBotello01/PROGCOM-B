{
  "nbformat": 4,
  "nbformat_minor": 0,
  "metadata": {
    "colab": {
      "provenance": [],
      "authorship_tag": "ABX9TyPwh5KcrO4juozCVk/QHmRQ",
      "include_colab_link": true
    },
    "kernelspec": {
      "name": "python3",
      "display_name": "Python 3"
    },
    "language_info": {
      "name": "python"
    }
  },
  "cells": [
    {
      "cell_type": "markdown",
      "metadata": {
        "id": "view-in-github",
        "colab_type": "text"
      },
      "source": [
        "<a href=\"https://colab.research.google.com/github/JulianBotello01/PROGCOM-B/blob/main/Clase_2_Estructuras_de_repeticion.ipynb\" target=\"_parent\"><img src=\"https://colab.research.google.com/assets/colab-badge.svg\" alt=\"Open In Colab\"/></a>"
      ]
    },
    {
      "cell_type": "markdown",
      "source": [
        "##Estructuras de repeticion\n",
        "Se emplean cuando se desea repetir una parte del codigo, dada una condición\n",
        "\n",
        "\n",
        "\n",
        "\n"
      ],
      "metadata": {
        "id": "2_OzqgwnkrYg"
      }
    },
    {
      "cell_type": "markdown",
      "source": [
        "##Listas\n",
        "* Son un cinjito de tipo de datos **indexado**, separado por comas, y encerrado entre [].\n",
        "* Todos los elementos dentro de una lista, se empiezan desde 0.\n",
        "##Creacion de listas\n",
        "* Forma general:lista[]\n",
        "* Forma manual:animales=[\"gato\",\"perro\",\"zorro\",\"oso\"]\n",
        "* Por converión: número=list(range(10))\n"
      ],
      "metadata": {
        "id": "K3pzCeMMwjhH"
      }
    },
    {
      "cell_type": "code",
      "source": [
        "lista=[]\n",
        "type(lista)"
      ],
      "metadata": {
        "colab": {
          "base_uri": "https://localhost:8080/"
        },
        "id": "4XJB-UOPyw41",
        "outputId": "92661dbf-44ea-4507-f406-4498fcd12787"
      },
      "execution_count": 4,
      "outputs": [
        {
          "output_type": "execute_result",
          "data": {
            "text/plain": [
              "list"
            ]
          },
          "metadata": {},
          "execution_count": 4
        }
      ]
    },
    {
      "cell_type": "code",
      "source": [
        "#Ejemplo\n",
        "zorro=(1,2,3,4)\n",
        "animales=[\"gato\",\"perro\",zorro,\"oso\"]\n",
        "print(animales)"
      ],
      "metadata": {
        "colab": {
          "base_uri": "https://localhost:8080/"
        },
        "id": "wndOaF8Rx0T2",
        "outputId": "07098502-7bf9-43e3-a4e6-6c80cb059387"
      },
      "execution_count": 1,
      "outputs": [
        {
          "output_type": "stream",
          "name": "stdout",
          "text": [
            "['gato', 'perro', (1, 2, 3, 4), 'oso']\n"
          ]
        }
      ]
    },
    {
      "cell_type": "markdown",
      "source": [
        "##Estructura para - for\n",
        "Se usa cuando:\n",
        "\n",
        "* Se sabe **cuántas veces** se repite una acción.\n",
        "* Está compuesta por un contador y una condición.  \n",
        "* **Contador:** Identifica cuántas veces se va a repetir el bucle y con qué frecuencia.\n",
        "* **Condición:** Evalúa cuándo se detiene.\n",
        "\n",
        "Por definicion:\n",
        "\n",
        "\n",
        "```\n",
        "for \"i\" in range (vi,vf+1, pasp):\n",
        "Bloque de codigo que se repite\n",
        "```\n",
        "Donde:\n",
        "1.   vi:Condicion inicial, donde inicia el conteo.\n",
        "2.   vf+1:Condicion final, donde finaliza el conteo\n",
        "3.   Paso:Frecuencia del coteo\n",
        "\n",
        "\n",
        "for par recorrido de listas:\n",
        "flor=[\"amaporla\",\"rosa\",\"tulipán\",\"orquidea\"]\n",
        "* El \"for\" va a iterar tantas veces como elementos tenga la lista\n",
        "* la variable dentro del \"for\", toma como valor, cada elemento de la lista\n",
        "\n",
        "```\n",
        "for \"i\" in lista:\n",
        "  variable\n",
        "```\n",
        "\n",
        "\n"
      ],
      "metadata": {
        "id": "fiXT-aGblrKv"
      }
    },
    {
      "cell_type": "code",
      "source": [
        "#creando una lista de nombre flor\n",
        "flor=[\"amaporla\",\"rosa\",\"tulipán\",\"orquidea\"]\n",
        "for i in flor:\n",
        "  print(i)"
      ],
      "metadata": {
        "colab": {
          "base_uri": "https://localhost:8080/"
        },
        "id": "XiSGKyjrktro",
        "outputId": "48d2bbb8-7d9e-4623-e2d0-4247f086b02b"
      },
      "execution_count": 6,
      "outputs": [
        {
          "output_type": "stream",
          "name": "stdout",
          "text": [
            "amaporla\n",
            "rosa\n",
            "tulipán\n",
            "orquidea\n"
          ]
        }
      ]
    },
    {
      "cell_type": "markdown",
      "source": [
        "##Estructura While\n",
        "* Se emplea cuando **NO SE SABE** cuánras veces se debe retir una acción, pero si se conoce su condición de parada (CP).\n",
        "Se compon por:\n",
        "* Condición inicial: Dónde arranaca el ciclo.\n",
        "* Condición final (parada): Que indica dónde se detiene el ciclo.\n",
        "* Modificador de condición inicial\n",
        "\n",
        "Estrucutra general del while\n",
        "\n",
        "```\n",
        "Condicion inicial\n",
        "while (condición==condición final):\n",
        "  modificador de condición inicial\n",
        "\n",
        "```\n",
        "Modificadores de condición inicial:\n",
        "* Banderas: Booleanos (Condiciones if,else[V/F])\n",
        "* Contadores o aculadores (0 hasta n-1)\n"
      ],
      "metadata": {
        "id": "GVZNppJ_2VGC"
      }
    }
  ]
}