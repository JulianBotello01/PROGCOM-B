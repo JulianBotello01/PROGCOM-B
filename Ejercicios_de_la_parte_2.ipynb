{
  "nbformat": 4,
  "nbformat_minor": 0,
  "metadata": {
    "colab": {
      "provenance": [],
      "authorship_tag": "ABX9TyMbgMLUThGZBf50/bkXSVb3",
      "include_colab_link": true
    },
    "kernelspec": {
      "name": "python3",
      "display_name": "Python 3"
    },
    "language_info": {
      "name": "python"
    }
  },
  "cells": [
    {
      "cell_type": "markdown",
      "metadata": {
        "id": "view-in-github",
        "colab_type": "text"
      },
      "source": [
        "<a href=\"https://colab.research.google.com/github/JulianBotello01/PROGCOM-B/blob/main/Ejercicios_de_la_parte_2.ipynb\" target=\"_parent\"><img src=\"https://colab.research.google.com/assets/colab-badge.svg\" alt=\"Open In Colab\"/></a>"
      ]
    },
    {
      "cell_type": "markdown",
      "source": [
        "##1)Programa de impresion 1-10"
      ],
      "metadata": {
        "id": "a2Fh-IwcUsKr"
      }
    },
    {
      "cell_type": "code",
      "execution_count": 19,
      "metadata": {
        "colab": {
          "base_uri": "https://localhost:8080/"
        },
        "id": "Ss_3KC2uKfNf",
        "outputId": "2e378815-e8b7-45ba-d71f-0d78762b5a2a"
      },
      "outputs": [
        {
          "output_type": "stream",
          "name": "stdout",
          "text": [
            "1\n",
            "2\n",
            "3\n",
            "4\n",
            "5\n",
            "6\n",
            "7\n",
            "8\n",
            "9\n",
            "10\n"
          ]
        }
      ],
      "source": [
        "for i in range(10):\n",
        "  #a=i+1\n",
        "  print(i+1)"
      ]
    },
    {
      "cell_type": "code",
      "source": [
        "Números1=[]\n",
        "for i in range(10):\n",
        " a=i+1\n",
        " Números1.append(a)\n",
        "print(Números1)"
      ],
      "metadata": {
        "colab": {
          "base_uri": "https://localhost:8080/"
        },
        "id": "cs7y7-3VVMTS",
        "outputId": "4419b7c9-edc5-4bb8-f2ba-856fa24b4f6b"
      },
      "execution_count": 21,
      "outputs": [
        {
          "output_type": "stream",
          "name": "stdout",
          "text": [
            "[1, 2, 3, 4, 5, 6, 7, 8, 9, 10]\n"
          ]
        }
      ]
    },
    {
      "cell_type": "code",
      "source": [
        "for i in Números1:\n",
        "  print(i)"
      ],
      "metadata": {
        "colab": {
          "base_uri": "https://localhost:8080/"
        },
        "id": "kMm9uNQEYuB3",
        "outputId": "3f88bb57-6a4b-48eb-acb1-429bf08f2531"
      },
      "execution_count": 22,
      "outputs": [
        {
          "output_type": "stream",
          "name": "stdout",
          "text": [
            "1\n",
            "2\n",
            "3\n",
            "4\n",
            "5\n",
            "6\n",
            "7\n",
            "8\n",
            "9\n",
            "10\n"
          ]
        }
      ]
    },
    {
      "cell_type": "markdown",
      "source": [
        "##Programa de impresion 1-100"
      ],
      "metadata": {
        "id": "VDBCPdXlVuUh"
      }
    },
    {
      "cell_type": "code",
      "source": [
        "for i in range(100):\n",
        "  a=i+1\n",
        "  print(a)"
      ],
      "metadata": {
        "id": "Fgw_YBsvVvd6"
      },
      "execution_count": null,
      "outputs": []
    },
    {
      "cell_type": "code",
      "source": [
        "Números2=[]\n",
        "for i in range(100):\n",
        " a=i+1\n",
        " Números2.append(a)\n",
        "print(Números2)"
      ],
      "metadata": {
        "colab": {
          "base_uri": "https://localhost:8080/"
        },
        "id": "cfwW0YfEVyPA",
        "outputId": "73d31a4a-ff8f-4916-d625-4b1f34743715"
      },
      "execution_count": 25,
      "outputs": [
        {
          "output_type": "stream",
          "name": "stdout",
          "text": [
            "[1, 2, 3, 4, 5, 6, 7, 8, 9, 10, 11, 12, 13, 14, 15, 16, 17, 18, 19, 20, 21, 22, 23, 24, 25, 26, 27, 28, 29, 30, 31, 32, 33, 34, 35, 36, 37, 38, 39, 40, 41, 42, 43, 44, 45, 46, 47, 48, 49, 50, 51, 52, 53, 54, 55, 56, 57, 58, 59, 60, 61, 62, 63, 64, 65, 66, 67, 68, 69, 70, 71, 72, 73, 74, 75, 76, 77, 78, 79, 80, 81, 82, 83, 84, 85, 86, 87, 88, 89, 90, 91, 92, 93, 94, 95, 96, 97, 98, 99, 100]\n"
          ]
        }
      ]
    },
    {
      "cell_type": "code",
      "source": [
        "for i in Números2:\n",
        "  print(i)"
      ],
      "metadata": {
        "colab": {
          "base_uri": "https://localhost:8080/"
        },
        "id": "EfxBkJKuZK4n",
        "outputId": "24892d65-af72-4531-9f4b-f667d19dac16"
      },
      "execution_count": 26,
      "outputs": [
        {
          "output_type": "stream",
          "name": "stdout",
          "text": [
            "1\n",
            "2\n",
            "3\n",
            "4\n",
            "5\n",
            "6\n",
            "7\n",
            "8\n",
            "9\n",
            "10\n",
            "11\n",
            "12\n",
            "13\n",
            "14\n",
            "15\n",
            "16\n",
            "17\n",
            "18\n",
            "19\n",
            "20\n",
            "21\n",
            "22\n",
            "23\n",
            "24\n",
            "25\n",
            "26\n",
            "27\n",
            "28\n",
            "29\n",
            "30\n",
            "31\n",
            "32\n",
            "33\n",
            "34\n",
            "35\n",
            "36\n",
            "37\n",
            "38\n",
            "39\n",
            "40\n",
            "41\n",
            "42\n",
            "43\n",
            "44\n",
            "45\n",
            "46\n",
            "47\n",
            "48\n",
            "49\n",
            "50\n",
            "51\n",
            "52\n",
            "53\n",
            "54\n",
            "55\n",
            "56\n",
            "57\n",
            "58\n",
            "59\n",
            "60\n",
            "61\n",
            "62\n",
            "63\n",
            "64\n",
            "65\n",
            "66\n",
            "67\n",
            "68\n",
            "69\n",
            "70\n",
            "71\n",
            "72\n",
            "73\n",
            "74\n",
            "75\n",
            "76\n",
            "77\n",
            "78\n",
            "79\n",
            "80\n",
            "81\n",
            "82\n",
            "83\n",
            "84\n",
            "85\n",
            "86\n",
            "87\n",
            "88\n",
            "89\n",
            "90\n",
            "91\n",
            "92\n",
            "93\n",
            "94\n",
            "95\n",
            "96\n",
            "97\n",
            "98\n",
            "99\n",
            "100\n"
          ]
        }
      ]
    },
    {
      "cell_type": "markdown",
      "source": [
        "##Programa de impresion de números del 1-30 multiplos de 3"
      ],
      "metadata": {
        "id": "MKzpln70V1SB"
      }
    },
    {
      "cell_type": "code",
      "source": [
        "for i in range(30):\n",
        "  a=i+1\n",
        "  if a%3==0:\n",
        "    print(a)"
      ],
      "metadata": {
        "colab": {
          "base_uri": "https://localhost:8080/"
        },
        "id": "KJAOgCgqWATB",
        "outputId": "8eee08bb-1a19-4a57-caf2-b998dbb4a311"
      },
      "execution_count": 6,
      "outputs": [
        {
          "output_type": "stream",
          "name": "stdout",
          "text": [
            "3\n",
            "6\n",
            "9\n",
            "12\n",
            "15\n",
            "18\n",
            "21\n",
            "24\n",
            "27\n",
            "30\n"
          ]
        }
      ]
    },
    {
      "cell_type": "code",
      "source": [
        "Números3=[]\n",
        "for i in range(30):\n",
        "  a=i+1\n",
        "  if a%3==0:\n",
        "    Números3.append(a)\n",
        "print(Números3)"
      ],
      "metadata": {
        "colab": {
          "base_uri": "https://localhost:8080/"
        },
        "id": "r55ogbkPWf1J",
        "outputId": "7b8465b6-ffb3-40c4-c28f-a20b512f620a"
      },
      "execution_count": 27,
      "outputs": [
        {
          "output_type": "stream",
          "name": "stdout",
          "text": [
            "[3, 6, 9, 12, 15, 18, 21, 24, 27, 30]\n"
          ]
        }
      ]
    },
    {
      "cell_type": "code",
      "source": [
        "for i in Números3:\n",
        "  print(i)"
      ],
      "metadata": {
        "colab": {
          "base_uri": "https://localhost:8080/"
        },
        "id": "gNQzDID6Zgd-",
        "outputId": "050321ad-d849-414b-f057-a5c9b5fb8028"
      },
      "execution_count": 28,
      "outputs": [
        {
          "output_type": "stream",
          "name": "stdout",
          "text": [
            "3\n",
            "6\n",
            "9\n",
            "12\n",
            "15\n",
            "18\n",
            "21\n",
            "24\n",
            "27\n",
            "30\n"
          ]
        }
      ]
    },
    {
      "cell_type": "markdown",
      "source": [
        "##Programa de tabla de multiplicar"
      ],
      "metadata": {
        "id": "_Cb4WYIqXD8Z"
      }
    },
    {
      "cell_type": "code",
      "source": [
        "N=int(input(\"Ingrese el número de la tabla de multiplicar deseada: \"))\n",
        "for i in range(11):\n",
        "  A=N*i\n",
        "  print(f\"{N}*{i}={A}\")"
      ],
      "metadata": {
        "colab": {
          "base_uri": "https://localhost:8080/"
        },
        "id": "mc12VoJ_XMKx",
        "outputId": "010eea2a-0a52-4b7e-e619-0c5353caba89"
      },
      "execution_count": 17,
      "outputs": [
        {
          "output_type": "stream",
          "name": "stdout",
          "text": [
            "Ingrese el número de la tabla de multiplicar deseada: 9\n",
            "9*0=0\n",
            "9*1=9\n",
            "9*2=18\n",
            "9*3=27\n",
            "9*4=36\n",
            "9*5=45\n",
            "9*6=54\n",
            "9*7=63\n",
            "9*8=72\n",
            "9*9=81\n",
            "9*10=90\n"
          ]
        }
      ]
    },
    {
      "cell_type": "code",
      "source": [
        "Tabla=[]\n",
        "N=int(input(\"Ingrese el número de la tabla de multiplicar deseada: \"))\n",
        "for i in range(11):\n",
        "  A=N*i\n",
        "  Tabla.append(A)\n",
        "B=-1\n",
        "for i in Tabla:\n",
        "  B=B+1\n",
        "  print(f\"{N}*{B}={i}\")"
      ],
      "metadata": {
        "colab": {
          "base_uri": "https://localhost:8080/"
        },
        "id": "ZjDCGoweYVHg",
        "outputId": "81a0cc0e-7c7d-4242-bbdc-57bd16530014"
      },
      "execution_count": 32,
      "outputs": [
        {
          "output_type": "stream",
          "name": "stdout",
          "text": [
            "Ingrese el número de la tabla de multiplicar deseada: 3\n",
            "3*0=0\n",
            "3*1=3\n",
            "3*2=6\n",
            "3*3=9\n",
            "3*4=12\n",
            "3*5=15\n",
            "3*6=18\n",
            "3*7=21\n",
            "3*8=24\n",
            "3*9=27\n",
            "3*10=30\n"
          ]
        }
      ]
    },
    {
      "cell_type": "markdown",
      "source": [
        "##Programa para promedio de 5 números"
      ],
      "metadata": {
        "id": "HWeJc2LFbDTN"
      }
    },
    {
      "cell_type": "code",
      "source": [
        "B1=0\n",
        "for i in range(5):\n",
        "  A1=int(input(\"ingrese un número: \"))\n",
        "  B1=B1+A1\n",
        "Promedio=B1/5\n",
        "print(\"El promedio de los números es: \",Promedio)"
      ],
      "metadata": {
        "colab": {
          "base_uri": "https://localhost:8080/"
        },
        "id": "i2RLNXxKbJ6M",
        "outputId": "f49c2850-1e9a-4918-c053-e0049a95221f"
      },
      "execution_count": 39,
      "outputs": [
        {
          "output_type": "stream",
          "name": "stdout",
          "text": [
            "ingrese un número: 1\n",
            "ingrese un número: 2\n",
            "ingrese un número: 3\n",
            "ingrese un número: 4\n",
            "ingrese un número: 5\n",
            "El promedio de los numeros es:  3.0\n"
          ]
        }
      ]
    },
    {
      "cell_type": "code",
      "source": [
        "Números4=[]\n",
        "B2=0\n",
        "for i in range(5):\n",
        "  Números4.append(int(input(\"ingrese un numero: \")))\n",
        "for i in Números4:\n",
        "  B2=B2+i\n",
        "Promedio1=B2/5\n",
        "print(\"El promedio de los números es:\",Promedio1)"
      ],
      "metadata": {
        "colab": {
          "base_uri": "https://localhost:8080/"
        },
        "id": "ZaMOrL1Ocsbs",
        "outputId": "a746906e-5a8e-436b-a3da-d95f38ec379f"
      },
      "execution_count": 41,
      "outputs": [
        {
          "output_type": "stream",
          "name": "stdout",
          "text": [
            "ingrese un numero: 1\n",
            "ingrese un numero: 2\n",
            "ingrese un numero: 3\n",
            "ingrese un numero: 4\n",
            "ingrese un numero: 5\n",
            "3.0\n"
          ]
        }
      ]
    },
    {
      "cell_type": "markdown",
      "source": [
        "##Rograma para detectar números pares"
      ],
      "metadata": {
        "id": "u8NN4r_2e6bJ"
      }
    },
    {
      "cell_type": "code",
      "source": [
        "Rango=int(input(\"ingrese el número al que desea llegar: \"))\n",
        "A2=0\n",
        "for i in range(Rango):\n",
        "  if i%2==0:\n",
        "    A2=A2+1\n",
        "print(f\"hay {A2} números pares del 1 hasta el {Rango}\")"
      ],
      "metadata": {
        "colab": {
          "base_uri": "https://localhost:8080/"
        },
        "id": "EbEnu_6SfbdI",
        "outputId": "318cefd6-f317-43d8-e8e5-1081e51c11e3"
      },
      "execution_count": 43,
      "outputs": [
        {
          "output_type": "stream",
          "name": "stdout",
          "text": [
            "ingrese el número al que desea llegar: 10\n",
            "hay 5 números pares del 1 hasta el 10\n"
          ]
        }
      ]
    }
  ]
}