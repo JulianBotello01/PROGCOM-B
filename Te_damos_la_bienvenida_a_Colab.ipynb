{
  "cells": [
    {
      "cell_type": "markdown",
      "metadata": {
        "id": "view-in-github",
        "colab_type": "text"
      },
      "source": [
        "<a href=\"https://colab.research.google.com/github/JulianBotello01/PROGCOM-B/blob/main/Te_damos_la_bienvenida_a_Colab.ipynb\" target=\"_parent\"><img src=\"https://colab.research.google.com/assets/colab-badge.svg\" alt=\"Open In Colab\"/></a>"
      ]
    },
    {
      "cell_type": "markdown",
      "source": [
        "#Esturcturas de selección\n",
        "Se emplean cuando quiero evaluar una condición. El resultado de la evalación de esta econdición sempre da Booleano (V o F)."
      ],
      "metadata": {
        "id": "JWzDDkM9LneY"
      }
    },
    {
      "cell_type": "markdown",
      "source": [
        "###Estructura if-else\n",
        "\n",
        "if (condicion):\n",
        " Entro aqui si la condicion dio V\n",
        "else\n",
        " entro aqui si la condicion dio F"
      ],
      "metadata": {
        "id": "zDwsZ5BgL2MJ"
      }
    },
    {
      "cell_type": "code",
      "source": [
        "#1. Es dicisible entre 4\n",
        "#2. Es divicible entre 400 pero no entre 100\n",
        "año=int(input(\"ingrese el año en el que se encuentra: \"))\n",
        "if (año%4==0 and año%100!=0):\n",
        "  print(f\"{año} es un año bisiesto\")\n",
        "else:\n",
        "  if año%400==0:\n",
        "      print(f\"{año} es un año bisiesto\")\n",
        "  else:\n",
        "      print(f\"{año} NO es un año bisiesto\")"
      ],
      "metadata": {
        "id": "lvvUzUOeMcbZ"
      },
      "execution_count": null,
      "outputs": []
    },
    {
      "cell_type": "markdown",
      "source": [
        "##Estructura de decisión múltiple if-elif-else\n",
        "Se emplea cuamdo hay más de una decisión\n",
        "\n",
        "\n",
        "```\n",
        "if (cond1):\n",
        " si cond1 se cumple entro aqui\n",
        "elif (cond2):\n",
        " si cond1 no se cumple y cond2 si, entro aqui\n",
        "elif (cond3):\n",
        " si cond1 y cond dos no se cumplen pero cond3 si, entro aqui.\n",
        "else:\n",
        " si con1,2,3,n... no se cumplen entro aqui.\n",
        "```\n"
      ],
      "metadata": {
        "id": "p7vkm4-wO3Yt"
      }
    },
    {
      "cell_type": "code",
      "source": [
        "año=int(input(\"ingrese el año en el que se encuentra: \"))\n",
        "if (año%4==0 and año%100!=0):\n",
        "  print(f\"{año} es un año bisiesto\")\n",
        "elif año%400==0:\n",
        "  print(f\"{año} es un año bisiesto\")\n",
        "else:\n",
        "  print(f\"{año} NO es un año bisiesto\")"
      ],
      "metadata": {
        "id": "14_3uLK5QRmm",
        "outputId": "d76d7323-1c04-40fe-c7ac-884dc06307ae",
        "colab": {
          "base_uri": "https://localhost:8080/"
        }
      },
      "execution_count": 3,
      "outputs": [
        {
          "output_type": "stream",
          "name": "stdout",
          "text": [
            "ingrese el año en el que se encuentra: 2024\n",
            "2024 es un año bisiesto\n"
          ]
        }
      ]
    },
    {
      "cell_type": "markdown",
      "source": [
        "##Operador terniario\n",
        "Programar una estructura de selección en una sola línea de código\n",
        "\n",
        "\n",
        "```\n",
        "#(Lo que se dene ejecutar, si la condicion es verdadera) if (condicion) else (lo que se debe ejeutar, si la condición es falsa)\n",
        "```\n",
        "\n"
      ],
      "metadata": {
        "id": "GiKe4KNtVlmH"
      }
    },
    {
      "cell_type": "markdown",
      "source": [
        "##Correccion de ejecicios"
      ],
      "metadata": {
        "id": "i-w7BGKwRZT0"
      }
    },
    {
      "cell_type": "code",
      "source": [
        "#1.Número positivo\n",
        "N=int(input(\"Ingrese un numero: \"))\n",
        "if N>=0:\n",
        "  print(\"El número es positivo\")\n",
        "else:\n",
        "  print(\"El numero es negativo\")\n",
        "#Opcion if-elif-else"
      ],
      "metadata": {
        "id": "nosmQIZmRYeR",
        "outputId": "d5723738-f6da-448b-e2de-9e81e21a6d1f",
        "colab": {
          "base_uri": "https://localhost:8080/"
        }
      },
      "execution_count": 11,
      "outputs": [
        {
          "output_type": "stream",
          "name": "stdout",
          "text": [
            "Ingrese un numero: 1000\n",
            "El número es positivo\n"
          ]
        }
      ]
    },
    {
      "cell_type": "code",
      "source": [
        "#2.Confirmacion de edad\n",
        "edad=int(input(\"ingrese su edad: \"))\n",
        "if edad>=18:\n",
        "  print(\"usted esta viejo\")\n",
        "else:\n",
        "  print(\"usted es menor de edad\")\n"
      ],
      "metadata": {
        "id": "8Os6XBkCR04r"
      },
      "execution_count": null,
      "outputs": []
    },
    {
      "cell_type": "code",
      "source": [
        "#3.Número mayor\n",
        "a=float(input(\"ingrese el primer número: \"))\n",
        "b=float(input(\"ingrese el segundo número: \"))\n",
        "if a>b:\n",
        "  print(f\"El número {a} es mayor que {b}\")\n",
        "else:\n",
        "  print(f\"El número {b} es mayor que {a}\")"
      ],
      "metadata": {
        "id": "BmA1v2A7SR5y",
        "outputId": "6cf50b3e-ecf8-4b04-86ea-338ac3dc147f",
        "colab": {
          "base_uri": "https://localhost:8080/"
        }
      },
      "execution_count": 16,
      "outputs": [
        {
          "output_type": "stream",
          "name": "stdout",
          "text": [
            "ingrese el primer número: 2\n",
            "ingrese el segundo número: 9\n",
            "El número 9.0 es mayor que 2.0\n"
          ]
        }
      ]
    },
    {
      "cell_type": "code",
      "source": [
        "#4.Sistema de calificacion\n",
        "N=int(input(\"Ingrese la calificacion del estdiante: \"))\n",
        "while N<0 or N>100:\n",
        "  N=int(input(f\"El número {N} no es valido, ingreselo de nuevo: \"))\n",
        "if N>=60:\n",
        "  print(\"El estudiante aprobo\")\n",
        "else:\n",
        "  print(\"El estudiante NO aprobo\")"
      ],
      "metadata": {
        "id": "tzx7Hnz5TMQi",
        "outputId": "1053d5b8-0d8b-4767-9a1a-2bde0f59b547",
        "colab": {
          "base_uri": "https://localhost:8080/"
        }
      },
      "execution_count": 30,
      "outputs": [
        {
          "output_type": "stream",
          "name": "stdout",
          "text": [
            "Ingrese la calificacion del estdiante: 100\n",
            "El estudiante aprobo\n"
          ]
        }
      ]
    },
    {
      "cell_type": "code",
      "source": [
        "#5.Número par o impar\n",
        "N=int(input(\"Ingrese un número: \"))\n",
        "if N%2==0:\n",
        "  print(f\"El número {N} es un numero par\")\n",
        "else:\n",
        "  print(f\"El número {N} es un numero impar\")"
      ],
      "metadata": {
        "id": "yxk5qCwwWCYA"
      },
      "execution_count": null,
      "outputs": []
    },
    {
      "cell_type": "code",
      "source": [
        "#6.El problema de los tres números\n",
        "a=int(input(\"Ingrese el primer número\"))\n",
        "b=int(input(\"Ingrese el segundo número\"))\n",
        "c=int(input(\"Ingrese el tercer número\"))\n",
        "if a>b and a>c:\n",
        "  print(f\"El numero mayor es {a}\")\n",
        "elif b>a and b>c:\n",
        "  print(f\"El numero mayor es {b}\")\n",
        "else:\n",
        "  print(f\"El numero mayor es {c}\")"
      ],
      "metadata": {
        "id": "j3AkECObWlfX"
      },
      "execution_count": null,
      "outputs": []
    },
    {
      "cell_type": "code",
      "source": [
        "#7.Año bisiesto\n",
        "año=int(input(\"ingrese el año en el que se encuentra: \"))\n",
        "if (año%4==0 and año%100!=0):\n",
        "  print(f\"{año} es un año bisiesto\")\n",
        "else:\n",
        "  if año%400==0:\n",
        "      print(f\"{año} es un año bisiesto\")\n",
        "  else:\n",
        "      print(f\"{año} NO es un año bisiesto\")\n",
        "#Opcion if-elif-else\n",
        "año=int(input(\"ingrese el año en el que se encuentra: \"))\n",
        "if (año%4==0 and año%100!=0):\n",
        "  print(f\"{año} es un año bisiesto\")\n",
        "elif año%400==0:\n",
        "  print(f\"{año} es un año bisiesto\")\n",
        "else:\n",
        "  print(f\"{año} NO es un año bisiesto\")"
      ],
      "metadata": {
        "id": "FBhG26slZhq0"
      },
      "execution_count": null,
      "outputs": []
    },
    {
      "cell_type": "code",
      "source": [
        "#8.Contraseña\n"
      ],
      "metadata": {
        "id": "SgW-jWQAZugc"
      },
      "execution_count": null,
      "outputs": []
    },
    {
      "cell_type": "code",
      "source": [
        "#9.FizzBuzz\n",
        "N=int(input(\"Ingrese un número: \"))\n",
        "if N%3==0 and N%5==0:\n",
        "  print(\"FizzBuzz\")\n",
        "elif N%3==0:\n",
        "  print(\"Fizz\")\n",
        "elif N%5==0:\n",
        "  print(\"Buzz\")"
      ],
      "metadata": {
        "id": "yn11Tex9a0Ir",
        "outputId": "a62e3e3f-610f-4cd9-98d3-eaccee5db7ad",
        "colab": {
          "base_uri": "https://localhost:8080/"
        }
      },
      "execution_count": 33,
      "outputs": [
        {
          "output_type": "stream",
          "name": "stdout",
          "text": [
            "Ingrese un número: 15\n",
            "FizzBuzz\n"
          ]
        }
      ]
    },
    {
      "cell_type": "code",
      "source": [
        "#10.Cajero\n",
        "import random\n",
        "Saldo= random.randrange(10000,1000000)\n",
        "print(f\"Usted tiene un saldo de: {Saldo}\")\n",
        "Retiro=int(input(\"¿Cuanto dinero desea retirar?\"))\n",
        "SaldoR=Saldo-Retiro\n",
        "if Retiro>Saldo:\n",
        "  print(\"Transaccion rechazada, fondos insuficientes\")\n",
        "elif Retiro==Saldo:\n",
        "  print(f\"Usted ha retirado -{Retiro}, se ha quedado sin saldo en la cuenta\")\n",
        "else:\n",
        "  print(f\"Usted ha retirado -{Retiro}, ahora cuenta con una disponibilidad de {SaldoR}\")"
      ],
      "metadata": {
        "id": "lFpqleOmb386",
        "outputId": "d25b30a8-f588-4658-d343-22e08ea0f328",
        "colab": {
          "base_uri": "https://localhost:8080/"
        }
      },
      "execution_count": 45,
      "outputs": [
        {
          "output_type": "stream",
          "name": "stdout",
          "text": [
            "Usted tiene un saldo de: 199324\n",
            "¿Cuanto dinero desea retirar?9000\n",
            "Usted ha retirado -9000, ahora cuenta con una disponibilidad de 190324\n"
          ]
        }
      ]
    }
  ],
  "metadata": {
    "colab": {
      "name": "Te damos la bienvenida a Colab",
      "toc_visible": true,
      "provenance": [],
      "include_colab_link": true
    },
    "kernelspec": {
      "display_name": "Python 3",
      "name": "python3"
    }
  },
  "nbformat": 4,
  "nbformat_minor": 0
}