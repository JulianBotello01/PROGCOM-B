{
  "nbformat": 4,
  "nbformat_minor": 0,
  "metadata": {
    "colab": {
      "provenance": [],
      "authorship_tag": "ABX9TyPd+K+S8NEq1YvQMmpgmVFo",
      "include_colab_link": true
    },
    "kernelspec": {
      "name": "python3",
      "display_name": "Python 3"
    },
    "language_info": {
      "name": "python"
    }
  },
  "cells": [
    {
      "cell_type": "markdown",
      "metadata": {
        "id": "view-in-github",
        "colab_type": "text"
      },
      "source": [
        "<a href=\"https://colab.research.google.com/github/JulianBotello01/PROGCOM-B/blob/main/Clase_5_Listas.ipynb\" target=\"_parent\"><img src=\"https://colab.research.google.com/assets/colab-badge.svg\" alt=\"Open In Colab\"/></a>"
      ]
    },
    {
      "cell_type": "markdown",
      "source": [
        "##Listas\n",
        "Es un nuevo tipo de dato con las siguientes caracteristicas:\n",
        "1. Sus datos internos son mutables\n",
        "2. Es Indexado, por lo tanto tiene un orden (desde 0 hasta n-1)\n",
        "3. Hay un número finito de posiciones\n",
        "4. Todas las listas se abren y cierran con [] y se separan con \",\".\n",
        "\n",
        "Sintaxis\n",
        "```\n",
        "nombre_lista=[]\n",
        "flores=[\"margarita\",\"rosa\",\"tulipán\"]\n",
        "```\n",
        "Listas por extension\n",
        "\n"
      ],
      "metadata": {
        "id": "lyrBHA8H8YBg"
      }
    },
    {
      "cell_type": "code",
      "execution_count": 2,
      "metadata": {
        "colab": {
          "base_uri": "https://localhost:8080/"
        },
        "id": "94DpnptT8GoJ",
        "outputId": "c2fea545-0bcc-426e-e9d8-bfe0c11e43db"
      },
      "outputs": [
        {
          "output_type": "stream",
          "name": "stdout",
          "text": [
            "[1, 2, 3, 4, 5, 6, 7, 8, 9, 10]\n"
          ]
        }
      ],
      "source": [
        "nu=[]\n",
        "for i in range(10):\n",
        "  nu.append(i+1)\n",
        "print(nu)"
      ]
    },
    {
      "cell_type": "code",
      "source": [
        "nombres=[]\n",
        "for i in range(3):\n",
        "  nombres.append(input(\"ingrese un nombre: \"))"
      ],
      "metadata": {
        "colab": {
          "base_uri": "https://localhost:8080/"
        },
        "id": "VrOkfYU5-cxP",
        "outputId": "7037a058-d312-4dac-b91e-13017938d3b6"
      },
      "execution_count": 3,
      "outputs": [
        {
          "name": "stdout",
          "output_type": "stream",
          "text": [
            "ingrese un nombre: Julián\n",
            "ingrese un nombre: Diego\n",
            "ingrese un nombre: Andrea\n"
          ]
        }
      ]
    },
    {
      "cell_type": "markdown",
      "source": [
        "##Listas por comrensión\n",
        "Son expresiones que generan listas\n",
        "Sintaxis:\n",
        "```\n",
        "nombre_lista=[\"for i in\" iteracion if condicion]\n",
        "```\n",
        "\n"
      ],
      "metadata": {
        "id": "1MxAikFQ_HFu"
      }
    },
    {
      "cell_type": "markdown",
      "source": [
        "###Ejemplos"
      ],
      "metadata": {
        "id": "HYwpVD4X_1ot"
      }
    },
    {
      "cell_type": "code",
      "source": [
        "#1. convertir una lista de oraciones en una lista de palabras\n",
        "oracion=[\"Aqui va una oración\", \"Aqui va otra oración\", \"Aqui va otra oración otravez\"]\n",
        "len(oracion)"
      ],
      "metadata": {
        "colab": {
          "base_uri": "https://localhost:8080/"
        },
        "id": "poVfhCjm_1FN",
        "outputId": "599e51a9-d692-43e1-9a67-0d393f74e407"
      },
      "execution_count": 14,
      "outputs": [
        {
          "output_type": "execute_result",
          "data": {
            "text/plain": [
              "3"
            ]
          },
          "metadata": {},
          "execution_count": 14
        }
      ]
    },
    {
      "cell_type": "code",
      "source": [
        "palabras=[i.split() for i in oracion]\n",
        "palabras\n",
        "#metodo para que el programa calcule la cantidad de elementos en un slot de una lista\n",
        "#len(\"nombre de lista\"[\"Número del slot\"])\n",
        "len(palabras[2])"
      ],
      "metadata": {
        "colab": {
          "base_uri": "https://localhost:8080/"
        },
        "id": "sk8CxsQIARXt",
        "outputId": "aab23ded-7ba9-4ebd-aec1-f3f3ea4eedd0"
      },
      "execution_count": 15,
      "outputs": [
        {
          "output_type": "execute_result",
          "data": {
            "text/plain": [
              "5"
            ]
          },
          "metadata": {},
          "execution_count": 15
        }
      ]
    },
    {
      "cell_type": "markdown",
      "source": [
        "##Indexacion en listas\n",
        "**Nota: Phyton cuenta las listas de 0 a n-1**\n",
        "```\n",
        "Lista=[Elemento1,Elemento2,Elemento3]\n",
        "Lista[0]= Elemento1\n",
        "Lista[3]= error, fuera de rango\n",
        "```\n",
        "\n"
      ],
      "metadata": {
        "id": "twn4RHisDSRi"
      }
    },
    {
      "cell_type": "code",
      "source": [
        "#Indexación negativa\n",
        "Lista_num=[1,2,3,4,5,6,7,8,9,10]\n",
        "print(Lista_num[-1]) #Al buscar un slot negativo, el programa cuenta de adelante para atras\n",
        "print(Lista_num[-2])\n",
        "print(Lista_num[len(Lista_num)-1])\n"
      ],
      "metadata": {
        "colab": {
          "base_uri": "https://localhost:8080/"
        },
        "id": "-w66TtddEONK",
        "outputId": "20711485-328e-4eeb-f97d-14195d7c6312"
      },
      "execution_count": 20,
      "outputs": [
        {
          "output_type": "stream",
          "name": "stdout",
          "text": [
            "10\n",
            "9\n",
            "10\n"
          ]
        }
      ]
    },
    {
      "cell_type": "code",
      "source": [
        "#Barrido de todos los elementos de la lista\n",
        "Lista_num[::]"
      ],
      "metadata": {
        "colab": {
          "base_uri": "https://localhost:8080/"
        },
        "id": "cY3ygX-NFnow",
        "outputId": "8d592658-7613-4704-bd15-38cac1744881"
      },
      "execution_count": 21,
      "outputs": [
        {
          "output_type": "execute_result",
          "data": {
            "text/plain": [
              "[1, 2, 3, 4, 5, 6, 7, 8, 9, 10]"
            ]
          },
          "metadata": {},
          "execution_count": 21
        }
      ]
    },
    {
      "cell_type": "code",
      "source": [
        "#Barrido de los elementos de la lista hasta el slot n-1 ([:n-1])\n",
        "Lista_num[:2]"
      ],
      "metadata": {
        "colab": {
          "base_uri": "https://localhost:8080/"
        },
        "id": "PfOz4v7VFw_H",
        "outputId": "fba653a4-3b30-4865-caab-cac3d5e6646b"
      },
      "execution_count": 23,
      "outputs": [
        {
          "output_type": "execute_result",
          "data": {
            "text/plain": [
              "[1, 2]"
            ]
          },
          "metadata": {},
          "execution_count": 23
        }
      ]
    },
    {
      "cell_type": "code",
      "source": [
        "#Obtener los pares de una lista\n",
        "pares=[i for i in Lista_num if i%2==0]\n",
        "print(pares)"
      ],
      "metadata": {
        "colab": {
          "base_uri": "https://localhost:8080/"
        },
        "id": "aXP8PGbbGHqo",
        "outputId": "8ccce372-45a5-4e99-9285-46d222c41e3e"
      },
      "execution_count": 24,
      "outputs": [
        {
          "output_type": "stream",
          "name": "stdout",
          "text": [
            "[2, 4, 6, 8, 10]\n"
          ]
        }
      ]
    },
    {
      "cell_type": "code",
      "source": [
        "#Clasificar números en positivos y negativos\n",
        "numeros=[-1,2,-3,4,-5,6,-7,8,-9,10]\n",
        "clasificacion=[(\"positivo\",i)if i>=0 else (\"negativo\",i) for i in numeros]\n",
        "print(clasificacion)"
      ],
      "metadata": {
        "colab": {
          "base_uri": "https://localhost:8080/"
        },
        "id": "uIE_98npGvqA",
        "outputId": "41442be7-4bca-49b5-ae06-a5bee637bbe6"
      },
      "execution_count": 25,
      "outputs": [
        {
          "output_type": "stream",
          "name": "stdout",
          "text": [
            "[('negativo', -1), ('positivo', 2), ('negativo', -3), ('positivo', 4), ('negativo', -5), ('positivo', 6), ('negativo', -7), ('positivo', 8), ('negativo', -9), ('positivo', 10)]\n"
          ]
        }
      ]
    }
  ]
}