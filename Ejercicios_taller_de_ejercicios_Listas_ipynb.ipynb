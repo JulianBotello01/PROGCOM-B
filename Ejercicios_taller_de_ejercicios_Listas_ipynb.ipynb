{
  "nbformat": 4,
  "nbformat_minor": 0,
  "metadata": {
    "colab": {
      "provenance": [],
      "authorship_tag": "ABX9TyPQsJOV7wrg7FH5r0Be1P0x",
      "include_colab_link": true
    },
    "kernelspec": {
      "name": "python3",
      "display_name": "Python 3"
    },
    "language_info": {
      "name": "python"
    }
  },
  "cells": [
    {
      "cell_type": "markdown",
      "metadata": {
        "id": "view-in-github",
        "colab_type": "text"
      },
      "source": [
        "<a href=\"https://colab.research.google.com/github/JulianBotello01/PROGCOM-B/blob/main/Ejercicios_taller_de_ejercicios_Listas_ipynb.ipynb\" target=\"_parent\"><img src=\"https://colab.research.google.com/assets/colab-badge.svg\" alt=\"Open In Colab\"/></a>"
      ]
    },
    {
      "cell_type": "markdown",
      "source": [
        "##Ejercicio #1"
      ],
      "metadata": {
        "id": "29jbo1P2ck_z"
      }
    },
    {
      "cell_type": "code",
      "execution_count": 1,
      "metadata": {
        "colab": {
          "base_uri": "https://localhost:8080/"
        },
        "id": "hz3aUH4aTUHk",
        "outputId": "023b8d23-8957-4776-86de-d4f17a772217"
      },
      "outputs": [
        {
          "output_type": "execute_result",
          "data": {
            "text/plain": [
              "[1, 4, 9, 16, 25, 36, 49, 64, 81, 100]"
            ]
          },
          "metadata": {},
          "execution_count": 1
        }
      ],
      "source": [
        "cuadrados = [i ** 2 for i in range(1,11)]\n",
        "cuadrados"
      ]
    },
    {
      "cell_type": "markdown",
      "source": [
        "##Ejercicio #2"
      ],
      "metadata": {
        "id": "T5gGELMHcqPh"
      }
    },
    {
      "cell_type": "code",
      "source": [
        "NumerosPares = [i for i in range(1,21) if i%2 == 0]\n",
        "NumerosPares"
      ],
      "metadata": {
        "colab": {
          "base_uri": "https://localhost:8080/"
        },
        "id": "gOxKGAjUdWZg",
        "outputId": "e0aa7ddd-bee5-4dc0-dd27-1317345ce12a"
      },
      "execution_count": 8,
      "outputs": [
        {
          "output_type": "execute_result",
          "data": {
            "text/plain": [
              "[2, 4, 6, 8, 10, 12, 14, 16, 18, 20]"
            ]
          },
          "metadata": {},
          "execution_count": 8
        }
      ]
    },
    {
      "cell_type": "markdown",
      "source": [
        "##Ejercicio #3"
      ],
      "metadata": {
        "id": "qb7Zhv0ActOv"
      }
    },
    {
      "cell_type": "code",
      "source": [
        "DobleNumeros = [i*2 for i in range (1,6)]\n",
        "DobleNumeros"
      ],
      "metadata": {
        "colab": {
          "base_uri": "https://localhost:8080/"
        },
        "id": "ay47uQdYecrg",
        "outputId": "97081426-3cc5-45e4-f1bb-2a4887fb6212"
      },
      "execution_count": 9,
      "outputs": [
        {
          "output_type": "execute_result",
          "data": {
            "text/plain": [
              "[2, 4, 6, 8, 10]"
            ]
          },
          "metadata": {},
          "execution_count": 9
        }
      ]
    },
    {
      "cell_type": "markdown",
      "source": [
        "##Ejercicio #4"
      ],
      "metadata": {
        "id": "56Y9coibc971"
      }
    },
    {
      "cell_type": "code",
      "source": [
        "palabra = \"programacion\"\n",
        "vocales = [letra for letra in palabra if letra in \"aeiou\"]\n",
        "vocales"
      ],
      "metadata": {
        "colab": {
          "base_uri": "https://localhost:8080/"
        },
        "id": "Bm_GdpTZfVta",
        "outputId": "4398f0c4-002e-4dd1-fb5a-04b94bcc0c2b"
      },
      "execution_count": 10,
      "outputs": [
        {
          "output_type": "execute_result",
          "data": {
            "text/plain": [
              "['o', 'a', 'a', 'i', 'o']"
            ]
          },
          "metadata": {},
          "execution_count": 10
        }
      ]
    },
    {
      "cell_type": "markdown",
      "source": [
        "##Ejercicio #5"
      ],
      "metadata": {
        "id": "PDCPSHUXdBmq"
      }
    },
    {
      "cell_type": "code",
      "source": [
        "Programas = [\"phyton\",\"java\",\"c++\"]\n",
        "Mayusculas = [i.upper for i in Programas]\n",
        "print(Mayusculas)"
      ],
      "metadata": {
        "colab": {
          "base_uri": "https://localhost:8080/"
        },
        "id": "FryRuDIXfkAj",
        "outputId": "dcaf11c2-91f7-4537-f187-7838fb060f64"
      },
      "execution_count": 12,
      "outputs": [
        {
          "output_type": "stream",
          "name": "stdout",
          "text": [
            "[<built-in method upper of str object at 0x7b67b7416790>, <built-in method upper of str object at 0x7b67d91e8810>, <built-in method upper of str object at 0x7b67b7415200>]\n"
          ]
        }
      ]
    },
    {
      "cell_type": "markdown",
      "source": [
        "##Ejercicio #6"
      ],
      "metadata": {
        "id": "1hgORK9NdD_6"
      }
    },
    {
      "cell_type": "code",
      "source": [
        "numeros=[1,2,3,4,5,6,7,8,9,10]\n",
        "clasificacion=[(\"par\")if i%2==0 else (\"impar\") for i in numeros]\n",
        "print(clasificacion)"
      ],
      "metadata": {
        "colab": {
          "base_uri": "https://localhost:8080/"
        },
        "id": "7qQFeU0Lgn0e",
        "outputId": "c6e9e563-ad28-43ff-8a1a-6c5f74d52ebb"
      },
      "execution_count": 14,
      "outputs": [
        {
          "output_type": "stream",
          "name": "stdout",
          "text": [
            "['impar', 'par', 'impar', 'par', 'impar', 'par', 'impar', 'par', 'impar', 'par']\n"
          ]
        }
      ]
    },
    {
      "cell_type": "markdown",
      "source": [
        "##Ejercicio #7"
      ],
      "metadata": {
        "id": "xvB0qp5_dHqU"
      }
    },
    {
      "cell_type": "code",
      "source": [
        "ListaNumeros = [1,2,3,4,5]\n",
        "NumCua = [(f\"{i**2} es el cuadrado de {i}\") for i in ListaNumeros]\n",
        "NumCua"
      ],
      "metadata": {
        "colab": {
          "base_uri": "https://localhost:8080/"
        },
        "id": "4DA9CGudhCsk",
        "outputId": "7d954ff3-c952-4a3c-e6a4-2159c633bdc2"
      },
      "execution_count": 15,
      "outputs": [
        {
          "output_type": "execute_result",
          "data": {
            "text/plain": [
              "['1 es el cuadrado de 1',\n",
              " '4 es el cuadrado de 2',\n",
              " '9 es el cuadrado de 3',\n",
              " '16 es el cuadrado de 4',\n",
              " '25 es el cuadrado de 5']"
            ]
          },
          "metadata": {},
          "execution_count": 15
        }
      ]
    },
    {
      "cell_type": "markdown",
      "source": [
        "##Ejercicio #8"
      ],
      "metadata": {
        "id": "f2Lha2Y9dNIb"
      }
    },
    {
      "cell_type": "code",
      "source": [
        "Letras = [\"a\",\"b\"]\n",
        "Numeros = [1,2,3]\n",
        "Combinados = [(letra,Numero) for letra in Letras for Numero in Numeros]\n",
        "Combinados"
      ],
      "metadata": {
        "colab": {
          "base_uri": "https://localhost:8080/"
        },
        "id": "2VCh1gS1hl23",
        "outputId": "93e2d541-64f8-411c-ecf4-fa01067f4816"
      },
      "execution_count": 16,
      "outputs": [
        {
          "output_type": "execute_result",
          "data": {
            "text/plain": [
              "[('a', 1), ('a', 2), ('a', 3), ('b', 1), ('b', 2), ('b', 3)]"
            ]
          },
          "metadata": {},
          "execution_count": 16
        }
      ]
    },
    {
      "cell_type": "markdown",
      "source": [
        "##Ejercicio #9"
      ],
      "metadata": {
        "id": "NcyUiYOjdP0r"
      }
    },
    {
      "cell_type": "code",
      "source": [
        "GrupoPalabras = [\"Sol\",\"Estrella\",\"Mar\",\"Planeta\"]\n",
        "FiltroPalabra = [(i)for i in GrupoPalabras if len(i)>4]\n",
        "FiltroPalabra"
      ],
      "metadata": {
        "colab": {
          "base_uri": "https://localhost:8080/"
        },
        "id": "VpFRk6TLh0XJ",
        "outputId": "db65016d-5437-4545-a66b-d7763a431513"
      },
      "execution_count": 21,
      "outputs": [
        {
          "output_type": "execute_result",
          "data": {
            "text/plain": [
              "['Estrella', 'Planeta']"
            ]
          },
          "metadata": {},
          "execution_count": 21
        }
      ]
    },
    {
      "cell_type": "markdown",
      "source": [
        "##Ejercicio #10"
      ],
      "metadata": {
        "id": "v0ENM10FdSI-"
      }
    },
    {
      "cell_type": "code",
      "source": [
        "import random\n",
        "Temp = [(random.randrange(1,40)) for i in range(10)]\n",
        "ClasTemp=[(\"frío\",x) if x<26 else (\"templado\",x) if x>=26 and x<=29 else (\"caliente\",x) for x in Temp]\n",
        "ClasTemp"
      ],
      "metadata": {
        "colab": {
          "base_uri": "https://localhost:8080/"
        },
        "id": "2PwU8iyej223",
        "outputId": "88d150ca-9f8d-4753-9278-c7175b6852de"
      },
      "execution_count": 52,
      "outputs": [
        {
          "output_type": "execute_result",
          "data": {
            "text/plain": [
              "[('frío', 11),\n",
              " ('frío', 19),\n",
              " ('frío', 23),\n",
              " ('frío', 9),\n",
              " ('frío', 7),\n",
              " ('frío', 8),\n",
              " ('templado', 26),\n",
              " ('frío', 19),\n",
              " ('frío', 4),\n",
              " ('caliente', 35)]"
            ]
          },
          "metadata": {},
          "execution_count": 52
        }
      ]
    }
  ]
}